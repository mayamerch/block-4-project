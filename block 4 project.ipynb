{
 "cells": [
  {
   "cell_type": "code",
   "execution_count": 1,
   "id": "483196c7",
   "metadata": {},
   "outputs": [
    {
     "name": "stdout",
     "output_type": "stream",
     "text": [
      "Bagpipes: PyMultiNest import failed, fitting will use the Nautilus sampler instead.\n"
     ]
    }
   ],
   "source": [
    "import os\n",
    "from astropy.io import fits\n",
    "import numpy as np\n",
    "from matplotlib import pyplot as plt\n",
    "\n",
    "import grizli\n",
    "import grizli.catalog\n",
    "from grizli import utils as griziutils\n",
    "\n",
    "import pandas as pd\n",
    "\n",
    "import bagpipes as pipes\n",
    "from bagpipes import utils\n",
    "\n",
    "from astropy import units as u\n",
    "from astroquery.svo_fps import SvoFps\n",
    "\n",
    "import matplotlib as mpl\n",
    "from scipy.stats import chisquare\n",
    "\n",
    "from tqdm import tqdm\n",
    "\n",
    "from IPython.display import display, Math\n",
    "\n",
    "import ultranest\n",
    "\n",
    "from multiprocessing import Pool\n",
    "\n",
    "import os\n",
    "import time\n",
    "import warnings\n",
    "import h5py\n",
    "import contextlib"
   ]
  },
  {
   "cell_type": "code",
   "execution_count": 852,
   "id": "a9f6059e",
   "metadata": {},
   "outputs": [],
   "source": [
    "plt.rcParams['font.family'] = 'serif'\n",
    "plt.rcParams['font.serif'] = 'Computer Modern'\n",
    "plt.rcParams['text.usetex'] = True\n",
    "plt.rcParams['axes.titlesize'] = 20 "
   ]
  },
  {
   "cell_type": "markdown",
   "id": "8b3c4fc3",
   "metadata": {},
   "source": [
    "## Creating Master Catalog"
   ]
  },
  {
   "cell_type": "code",
   "execution_count": 3,
   "id": "3d0396e4",
   "metadata": {},
   "outputs": [],
   "source": [
    "match_aper2 = griziutils.read_catalog('match-tot-flux_aper2.fits') \n",
    "match_aper2.sort('ID_2')\n",
    "\n",
    "for i in range(len(match)):\n",
    "    match_aper2[i]['id_1'] = i"
   ]
  },
  {
   "cell_type": "code",
   "execution_count": 4,
   "id": "33e447d4",
   "metadata": {},
   "outputs": [
    {
     "data": {
      "text/html": [
       "<div><i>GTable length=19</i>\n",
       "<table id=\"table140662150343504\" class=\"table-striped table-bordered table-condensed\">\n",
       "<thead><tr><th>id_1</th><th>ra_1</th><th>dec_1</th><th>f105w_tot_2</th><th>f105w_etot_2</th><th>f115w_tot_2</th><th>f115w_etot_2</th><th>f125w_tot_2</th><th>f125w_etot_2</th><th>f140w_tot_2</th><th>f140w_etot_2</th><th>f150w_tot_2</th><th>f150w_etot_2</th><th>f160w_tot_2</th><th>f160w_etot_2</th><th>f200w_tot_2</th><th>f200w_etot_2</th><th>f277w_tot_2</th><th>f277w_etot_2</th><th>f356w_tot_2</th><th>f356w_etot_2</th><th>f410m_tot_2</th><th>f410m_etot_2</th><th>f435w_tot_2</th><th>f435w_etot_2</th><th>f444w_tot_2</th><th>f444w_etot_2</th><th>f606w_tot_2</th><th>f606w_etot_2</th><th>f814w_tot_2</th><th>f814w_etot_2</th><th>ID_2</th><th>RA_2</th><th>Dec_2</th><th>zspec</th><th>Separation</th></tr></thead>\n",
       "<thead><tr><th></th><th>deg</th><th>deg</th><th>uJy</th><th>uJy</th><th>uJy</th><th>uJy</th><th>uJy</th><th>uJy</th><th>uJy</th><th>uJy</th><th>uJy</th><th>uJy</th><th>uJy</th><th>uJy</th><th>uJy</th><th>uJy</th><th>uJy</th><th>uJy</th><th>uJy</th><th>uJy</th><th>uJy</th><th>uJy</th><th>uJy</th><th>uJy</th><th>uJy</th><th>uJy</th><th>uJy</th><th>uJy</th><th>uJy</th><th>uJy</th><th></th><th></th><th></th><th></th><th>arcsec</th></tr></thead>\n",
       "<thead><tr><th>int32</th><th>float64</th><th>float64</th><th>float64</th><th>float64</th><th>float64</th><th>float64</th><th>float64</th><th>float64</th><th>float64</th><th>float64</th><th>float64</th><th>float64</th><th>float64</th><th>float64</th><th>float64</th><th>float64</th><th>float64</th><th>float64</th><th>float64</th><th>float64</th><th>float64</th><th>float64</th><th>float64</th><th>float64</th><th>float64</th><th>float64</th><th>float64</th><th>float64</th><th>float64</th><th>float64</th><th>float32</th><th>float32</th><th>float32</th><th>float32</th><th>float64</th></tr></thead>\n",
       "<tr><td>0</td><td>214.9477538042206</td><td>52.817893751132374</td><td>-99.0</td><td>-99.0</td><td>0.7546792363735781</td><td>0.037469485393336416</td><td>0.8637149845413333</td><td>0.030753629232515515</td><td>-99.0</td><td>-99.0</td><td>-99.0</td><td>-99.0</td><td>1.1864455640544036</td><td>0.020096930292852304</td><td>-99.0</td><td>-99.0</td><td>-99.0</td><td>-99.0</td><td>3.008166252793936</td><td>0.0172443551439767</td><td>-99.0</td><td>-99.0</td><td>-99.0</td><td>-99.0</td><td>-99.0</td><td>-99.0</td><td>0.28681508177766535</td><td>0.014651309245383864</td><td>0.6072464217991902</td><td>0.01450343221186323</td><td>2342.0</td><td>214.94775</td><td>52.81789</td><td>3.436</td><td>0.012903935225267577</td></tr>\n",
       "<tr><td>1</td><td>214.92221119409595</td><td>52.82192506490399</td><td>-99.0</td><td>-99.0</td><td>0.3206137120108823</td><td>0.0693902828926634</td><td>0.4601178894766529</td><td>0.052816221610843164</td><td>0.5096451007317409</td><td>0.0930964299062603</td><td>-99.0</td><td>-99.0</td><td>0.8199734166067852</td><td>0.04497868682559106</td><td>-99.0</td><td>-99.0</td><td>-99.0</td><td>-99.0</td><td>4.1654390654173215</td><td>0.03264234273418852</td><td>-99.0</td><td>-99.0</td><td>-99.0</td><td>-99.0</td><td>-99.0</td><td>-99.0</td><td>0.10659365773679799</td><td>0.02525819909049194</td><td>0.21488861075932034</td><td>0.022080244692827034</td><td>12903.0</td><td>214.92221</td><td>52.82193</td><td>3.445</td><td>0.017554084132459798</td></tr>\n",
       "<tr><td>2</td><td>214.91317256732108</td><td>52.82468027227138</td><td>-99.0</td><td>-99.0</td><td>0.3520272613550787</td><td>0.02988965029476339</td><td>0.4622368958830817</td><td>0.02335931360354508</td><td>0.666834327208125</td><td>0.041180407426450766</td><td>-99.0</td><td>-99.0</td><td>0.8810156724138711</td><td>0.020390720691943507</td><td>-99.0</td><td>-99.0</td><td>-99.0</td><td>-99.0</td><td>5.362754042169114</td><td>-127.27018304584672</td><td>-99.0</td><td>-99.0</td><td>-0.0013319875133390752</td><td>0.013091295264990541</td><td>-99.0</td><td>-99.0</td><td>0.10013371028541974</td><td>0.010856662580280379</td><td>0.219838020271075</td><td>0.00953088073410034</td><td>17600.0</td><td>214.91318</td><td>52.82468</td><td>3.4379</td><td>0.01071082278193695</td></tr>\n",
       "<tr><td>3</td><td>214.91112596099063</td><td>52.826790425351604</td><td>-99.0</td><td>-99.0</td><td>0.266694183990847</td><td>0.030145848887082514</td><td>0.33210639698682026</td><td>0.024734437654469702</td><td>0.39367983262055856</td><td>0.04269122440140665</td><td>-99.0</td><td>-99.0</td><td>0.492752211278926</td><td>0.02034653336209992</td><td>-99.0</td><td>-99.0</td><td>-99.0</td><td>-99.0</td><td>0.6710232140127809</td><td>0.012631165884537653</td><td>-99.0</td><td>-99.0</td><td>0.023971506856372032</td><td>0.0074524446898218116</td><td>-99.0</td><td>-99.0</td><td>0.1808894726520937</td><td>0.011440941767646462</td><td>0.3098532082394327</td><td>0.010138338090344399</td><td>19339.0</td><td>214.91113</td><td>52.82679</td><td>3.44</td><td>0.015043816551980196</td></tr>\n",
       "<tr><td>4</td><td>214.87864724986258</td><td>52.82585772332418</td><td>-99.0</td><td>-99.0</td><td>0.24055484679498865</td><td>0.02475660270114132</td><td>0.24713210762911728</td><td>0.01605664317065345</td><td>0.28085823401010857</td><td>0.038414815119169166</td><td>-99.0</td><td>-99.0</td><td>0.2886201655996747</td><td>0.013695289249713763</td><td>-99.0</td><td>-99.0</td><td>-99.0</td><td>-99.0</td><td>0.27868798515988397</td><td>-102.47673318569032</td><td>-99.0</td><td>-99.0</td><td>0.06893604126269604</td><td>0.005329018130309887</td><td>-99.0</td><td>-99.0</td><td>0.23248468900956692</td><td>0.008129956525843892</td><td>0.2795760400504469</td><td>0.009621066851051715</td><td>29557.0</td><td>214.87865</td><td>52.82586</td><td>3.4406</td><td>0.004924594927368452</td></tr>\n",
       "<tr><td>5</td><td>214.88878708179078</td><td>52.835272574058386</td><td>-99.0</td><td>-99.0</td><td>0.38775632981205277</td><td>0.00526178221125566</td><td>0.4006057052892184</td><td>0.02230286179623098</td><td>0.5560303124081223</td><td>0.06134765112285996</td><td>0.4912618743360835</td><td>0.0062771025084900215</td><td>0.5237685969844595</td><td>0.018448080728536383</td><td>0.830056838762609</td><td>0.005402550643384269</td><td>0.651483822292663</td><td>0.004205684510341938</td><td>0.43698681416124613</td><td>0.0038662740044846026</td><td>0.5902650577163203</td><td>0.00750717333653072</td><td>0.06557846294130848</td><td>0.008008970010293008</td><td>0.5468782623975849</td><td>0.006334816115345298</td><td>0.28389953942324947</td><td>0.009540356839513278</td><td>0.43376281633581926</td><td>0.009492902684288021</td><td>30531.0</td><td>214.8888</td><td>52.83527</td><td>3.4375</td><td>0.01770733446632217</td></tr>\n",
       "<tr><td>6</td><td>214.88185346628634</td><td>52.84637078501104</td><td>-99.0</td><td>-99.0</td><td>0.4071860578591471</td><td>0.008731974204147347</td><td>0.39979549253310537</td><td>0.0387727984824792</td><td>0.5145154854695559</td><td>0.055125892848594794</td><td>0.6101603928023532</td><td>0.010349738977509891</td><td>0.5497266637367229</td><td>0.03293520378628193</td><td>1.0831440299847213</td><td>0.00911412826182002</td><td>1.1701680903913785</td><td>0.007116594825213995</td><td>1.0972922925129587</td><td>0.007020921729509725</td><td>1.2999085434093616</td><td>0.012707133477389696</td><td>-0.007201849652300618</td><td>0.012490289555746652</td><td>1.2764927928060927</td><td>0.010724943170763529</td><td>0.12245767717842038</td><td>0.01468536575424984</td><td>0.3207058767179971</td><td>0.014086367961835256</td><td>36814.0</td><td>214.88185</td><td>52.84637</td><td>3.435</td><td>0.004945662900035164</td></tr>\n",
       "<tr><td>7</td><td>214.87122693190273</td><td>52.845070100018845</td><td>-99.0</td><td>-99.0</td><td>0.7124787653588963</td><td>0.005562337468385957</td><td>0.8139272484592468</td><td>0.02668688602483778</td><td>-99.0</td><td>-99.0</td><td>1.190417902970559</td><td>0.006751064587868669</td><td>1.262356058194955</td><td>0.023212062969306967</td><td>3.55687485279871</td><td>0.007237451149248871</td><td>4.946890264257945</td><td>0.0074228043430609346</td><td>5.797413414221263</td><td>0.007848409420476264</td><td>6.946532624610335</td><td>0.011334328842695461</td><td>-0.007401392695187336</td><td>0.011642705455280754</td><td>7.423235135070871</td><td>0.0101406503020697</td><td>0.20124772639964814</td><td>0.009673959786552184</td><td>0.5044100845440527</td><td>0.00983921424051206</td><td>39138.0</td><td>214.87123</td><td>52.84507</td><td>3.442</td><td>0.009050341523835144</td></tr>\n",
       "<tr><td>8</td><td>214.962312540683</td><td>52.920307346672956</td><td>0.08223966681543393</td><td>0.020810046600448558</td><td>0.07312238807339053</td><td>0.0033688282656314512</td><td>0.10326899419904952</td><td>0.01997217040086759</td><td>0.08533342174754213</td><td>0.03465349435163077</td><td>0.09282935118338845</td><td>0.004691400843980682</td><td>0.1070061584283106</td><td>0.016848894250651857</td><td>0.17959490785617604</td><td>0.004048272344164728</td><td>0.12453190784940317</td><td>0.0031839463669528344</td><td>0.09175829762492045</td><td>0.0025751545724539103</td><td>0.10624276490553058</td><td>0.005997155615418403</td><td>0.02522590086038159</td><td>0.006595259205686141</td><td>0.11518072191522698</td><td>0.005250143668122282</td><td>0.0854886974976002</td><td>0.007696851603790649</td><td>0.08603148394045729</td><td>0.007524047267294184</td><td>42414.0</td><td>214.96231</td><td>52.92031</td><td>3.4387</td><td>0.013599822913322634</td></tr>\n",
       "<tr><td>9</td><td>214.93161076516043</td><td>52.908696353216044</td><td>-99.0</td><td>-99.0</td><td>12.354348146187757</td><td>0.00871921215602321</td><td>12.452561729854683</td><td>0.03237640483656556</td><td>13.901749457459205</td><td>0.061538216360048296</td><td>12.223507648359558</td><td>0.008945412221219763</td><td>12.955659692885146</td><td>0.028736756979427083</td><td>13.411894022333602</td><td>0.008899624384016733</td><td>14.89944852137574</td><td>0.009369567706876731</td><td>11.860227688621816</td><td>0.008356083403652079</td><td>11.839032737009374</td><td>0.010002239305670364</td><td>4.043639905293287</td><td>0.011849723721886122</td><td>13.278939273523227</td><td>0.008905383453631321</td><td>10.560685800079233</td><td>0.01886059979479732</td><td>9.530365833362548</td><td>0.016558219479830005</td><td>46256.0</td><td>214.93161</td><td>52.9087</td><td>3.436</td><td>0.00976175861937383</td></tr>\n",
       "<tr><td>10</td><td>214.89515095994722</td><td>52.888197104169286</td><td>-99.0</td><td>-99.0</td><td>0.07570322884707974</td><td>0.002567338306634167</td><td>0.10498613208477964</td><td>0.019901329705813407</td><td>0.08484902845568988</td><td>0.02447907688153491</td><td>0.09360594980492122</td><td>0.003215552352933132</td><td>0.10224519382129345</td><td>0.014804338632227512</td><td>0.1496137032833948</td><td>0.0022006932954911286</td><td>0.1283665527461809</td><td>0.0022663240516561855</td><td>0.10633552896815952</td><td>0.0019356973591716884</td><td>0.1257522113081113</td><td>0.004191907910201548</td><td>-99.0</td><td>-99.0</td><td>0.12282749362519764</td><td>0.00284259296111547</td><td>0.056682875708309204</td><td>0.006945836079618648</td><td>0.06864889465955583</td><td>0.008551844254150395</td><td>48525.0</td><td>214.89516</td><td>52.8882</td><td>3.45</td><td>0.014278616615367593</td></tr>\n",
       "<tr><td>11</td><td>214.8588642660246</td><td>52.863625916623675</td><td>-99.0</td><td>-99.0</td><td>0.5004357274688728</td><td>0.0042683455762621905</td><td>0.49135667826678864</td><td>0.02392731417894008</td><td>0.5392477220429022</td><td>0.031627783499472525</td><td>0.6188739105001548</td><td>0.004600626925196399</td><td>0.6087558677843897</td><td>0.01908075127337806</td><td>0.9667829505704507</td><td>0.004502711962071713</td><td>0.970090564759225</td><td>0.003546451196717249</td><td>0.9338821534179449</td><td>0.003466118276847143</td><td>1.0779271381146855</td><td>0.006623071587193884</td><td>0.03475189587546909</td><td>0.010785148574736168</td><td>1.071723043354135</td><td>0.004591712347513957</td><td>0.27288386418418664</td><td>0.008948754726871375</td><td>0.42929837935353055</td><td>0.00936577113812643</td><td>49364.0</td><td>214.85886</td><td>52.86363</td><td>3.4365</td><td>0.019655751135841396</td></tr>\n",
       "<tr><td>12</td><td>214.91081573175111</td><td>52.90095497644269</td><td>-99.0</td><td>-99.0</td><td>0.9165346173924819</td><td>0.016051776619324592</td><td>1.2625786549747393</td><td>0.03544373579372861</td><td>2.0120397717652962</td><td>0.05909057676231543</td><td>3.5776076057604933</td><td>0.014918080576407972</td><td>3.5362424527307073</td><td>0.032712883860762654</td><td>5.937032345482187</td><td>0.01544687227657936</td><td>9.695584833465617</td><td>0.01361480076824181</td><td>17.267777011872713</td><td>0.015925562589074835</td><td>-99.0</td><td>-99.0</td><td>0.03157564273681103</td><td>0.018922685252411493</td><td>25.428621666319696</td><td>0.019462511428350367</td><td>0.10259955215973292</td><td>0.020665299973661795</td><td>0.18433183488126023</td><td>0.018339986867799498</td><td>49474.0</td><td>214.91081</td><td>52.90096</td><td>3.4405</td><td>0.016260541119123416</td></tr>\n",
       "<tr><td>13</td><td>214.87806485265338</td><td>52.88807644416028</td><td>-99.0</td><td>-99.0</td><td>0.3525726088126049</td><td>0.004927569173236893</td><td>0.3560236203670037</td><td>0.021650389192278432</td><td>0.34204455386851</td><td>0.026448241748402698</td><td>0.3822452520623146</td><td>0.00585120441674143</td><td>0.3861532376506533</td><td>0.017232265544160182</td><td>0.6227472118882578</td><td>0.003782556280491902</td><td>0.5549944764165342</td><td>0.003881556915812065</td><td>0.5009905169877639</td><td>0.003598410935021039</td><td>0.5411538994986305</td><td>0.006796142145343039</td><td>-99.0</td><td>-99.0</td><td>0.5587417135044405</td><td>0.004118143520343364</td><td>0.2926072125165689</td><td>0.007356122871219664</td><td>0.3557398919590717</td><td>0.008620408901845678</td><td>54034.0</td><td>214.87807</td><td>52.88808</td><td>3.449</td><td>0.015671465710123376</td></tr>\n",
       "<tr><td>14</td><td>214.86438336918195</td><td>52.880864424248436</td><td>-99.0</td><td>-99.0</td><td>0.2761348303034418</td><td>0.004197879887339631</td><td>0.3067416468741324</td><td>0.022212028511098672</td><td>0.31888601906212877</td><td>0.026977639103309914</td><td>0.3402820762832171</td><td>0.004484851432732579</td><td>0.3212248537709955</td><td>0.018230158955105675</td><td>0.5366143628222637</td><td>0.0031669975043075757</td><td>0.43160087408990055</td><td>0.0031552291112613763</td><td>0.3464414889911414</td><td>0.0028752316097083947</td><td>0.38490872378582763</td><td>0.006566381767538396</td><td>-99.0</td><td>-99.0</td><td>0.3879171400109926</td><td>0.003498674747884074</td><td>0.1931959119070516</td><td>0.007770713913442745</td><td>0.2860621771507554</td><td>0.008232829337327371</td><td>55035.0</td><td>214.86438</td><td>52.88086</td><td>3.4431</td><td>0.019692181170898923</td></tr>\n",
       "<tr><td>15</td><td>214.86378582033407</td><td>52.88036956109095</td><td>-99.0</td><td>-99.0</td><td>1.3058724498931018</td><td>0.005435087250842641</td><td>1.2278906474654843</td><td>0.0270287760024012</td><td>1.1861144489805275</td><td>0.031402354679585937</td><td>1.271237474565863</td><td>0.005705470416090654</td><td>1.2501953781294008</td><td>0.022272484167870595</td><td>1.856603153242326</td><td>0.004625688668547138</td><td>1.298121102869579</td><td>0.004262176557252819</td><td>0.9432023957029594</td><td>0.0038250392658742767</td><td>1.0690869160429157</td><td>0.007662063599351988</td><td>-99.0</td><td>-99.0</td><td>1.0513431642339037</td><td>0.004441859772056391</td><td>1.2634458175472787</td><td>0.010358771546826967</td><td>1.5360463813039729</td><td>0.01114696889198393</td><td>55136.0</td><td>214.86378</td><td>52.88037</td><td>3.4406</td><td>0.005954310577509975</td></tr>\n",
       "<tr><td>16</td><td>214.86578404333437</td><td>52.88341995538352</td><td>-99.0</td><td>-99.0</td><td>0.08215959899944544</td><td>0.0069189339114408294</td><td>0.04396338670964584</td><td>0.0357115450395857</td><td>0.11393162804794828</td><td>0.04208729268966538</td><td>0.15183106042065728</td><td>0.007425476939433586</td><td>0.15277837067836897</td><td>0.028056379369913564</td><td>0.347830713576252</td><td>0.0049277065054250556</td><td>0.6167732665336993</td><td>0.005255783978202436</td><td>0.8131217058430587</td><td>0.0051794878586639975</td><td>1.0607928517182164</td><td>0.011279257278527143</td><td>-99.0</td><td>-99.0</td><td>1.1464484756315259</td><td>0.006343305782210265</td><td>-0.0017646486800314486</td><td>0.01297916502126983</td><td>0.003569923128367176</td><td>0.013418509080581694</td><td>55785.0</td><td>214.86578</td><td>52.88342</td><td>3.439</td><td>0.003393896294753602</td></tr>\n",
       "<tr><td>17</td><td>214.86605322251668</td><td>52.88425730433112</td><td>-99.0</td><td>-99.0</td><td>0.36545687385308917</td><td>0.004078473976504734</td><td>0.46780942964625755</td><td>0.02254194410692374</td><td>0.7144704655391608</td><td>0.026148078244075907</td><td>0.9022841328407707</td><td>0.00458221900894117</td><td>1.0193633847854124</td><td>0.019142686229766497</td><td>3.686275492789372</td><td>0.005119061421887519</td><td>4.682799966574266</td><td>0.005636656136244372</td><td>5.174355931326929</td><td>0.005803367217361368</td><td>5.752544902267524</td><td>0.008240082455202786</td><td>-99.0</td><td>-99.0</td><td>6.118511867516693</td><td>0.006526522972023585</td><td>0.032165281581343685</td><td>0.007669137705594439</td><td>0.18402412349217065</td><td>0.00811868895030137</td><td>56033.0</td><td>214.86604</td><td>52.88426</td><td>3.434</td><td>0.022282471771732707</td></tr>\n",
       "<tr><td>18</td><td>214.8493981277282</td><td>52.87305392393971</td><td>-99.0</td><td>-99.0</td><td>0.5952916271229082</td><td>0.0050003360267683004</td><td>0.735002755918538</td><td>0.026679139748239118</td><td>1.034772183595999</td><td>0.03378270808231963</td><td>1.3119824979183512</td><td>0.00580126698484207</td><td>1.3133108644850504</td><td>0.02283657402993797</td><td>2.197342719095854</td><td>0.005737785041638084</td><td>2.8599085126124955</td><td>0.005434080095792335</td><td>3.91649172085157</td><td>0.006003522362665832</td><td>4.509991750670384</td><td>0.009991540435067288</td><td>0.061467245471387266</td><td>0.018828212954633664</td><td>4.6314453549032235</td><td>0.0073243514712572864</td><td>0.151402091245307</td><td>0.009189333399433704</td><td>0.21569924411567168</td><td>0.011412122895200591</td><td>56241.0</td><td>214.8494</td><td>52.87305</td><td>3.4526</td><td>0.012736378657296425</td></tr>\n",
       "</table></div>"
      ],
      "text/plain": [
       "<GTable length=19>\n",
       " id_1        ra_1              dec_1        ...  zspec       Separation     \n",
       "             deg                deg         ...                arcsec       \n",
       "int32      float64            float64       ... float32       float64       \n",
       "----- ------------------ ------------------ ... ------- --------------------\n",
       "    0  214.9477538042206 52.817893751132374 ...   3.436 0.012903935225267577\n",
       "    1 214.92221119409595  52.82192506490399 ...   3.445 0.017554084132459798\n",
       "    2 214.91317256732108  52.82468027227138 ...  3.4379  0.01071082278193695\n",
       "    3 214.91112596099063 52.826790425351604 ...    3.44 0.015043816551980196\n",
       "    4 214.87864724986258  52.82585772332418 ...  3.4406 0.004924594927368452\n",
       "    5 214.88878708179078 52.835272574058386 ...  3.4375  0.01770733446632217\n",
       "    6 214.88185346628634  52.84637078501104 ...   3.435 0.004945662900035164\n",
       "    7 214.87122693190273 52.845070100018845 ...   3.442 0.009050341523835144\n",
       "    8   214.962312540683 52.920307346672956 ...  3.4387 0.013599822913322634\n",
       "    9 214.93161076516043 52.908696353216044 ...   3.436  0.00976175861937383\n",
       "   10 214.89515095994722 52.888197104169286 ...    3.45 0.014278616615367593\n",
       "   11  214.8588642660246 52.863625916623675 ...  3.4365 0.019655751135841396\n",
       "   12 214.91081573175111  52.90095497644269 ...  3.4405 0.016260541119123416\n",
       "   13 214.87806485265338  52.88807644416028 ...   3.449 0.015671465710123376\n",
       "   14 214.86438336918195 52.880864424248436 ...  3.4431 0.019692181170898923\n",
       "   15 214.86378582033407  52.88036956109095 ...  3.4406 0.005954310577509975\n",
       "   16 214.86578404333437  52.88341995538352 ...   3.439 0.003393896294753602\n",
       "   17 214.86605322251668  52.88425730433112 ...   3.434 0.022282471771732707\n",
       "   18  214.8493981277282  52.87305392393971 ...  3.4526 0.012736378657296425"
      ]
     },
     "execution_count": 4,
     "metadata": {},
     "output_type": "execute_result"
    }
   ],
   "source": [
    "match_aper2"
   ]
  },
  {
   "cell_type": "markdown",
   "id": "95d4ab14",
   "metadata": {},
   "source": [
    "## Filters"
   ]
  },
  {
   "cell_type": "code",
   "execution_count": 771,
   "id": "69ba267a",
   "metadata": {},
   "outputs": [],
   "source": [
    "filters = ['HST/WFC3_IR.F105W', 'JWST/NIRCam.F115W', 'HST/WFC3_IR.F125W', 'HST/WFC3_IR.F140W', 'JWST/NIRCam.F150W',\n",
    "           'HST/WFC3_IR.F160W', 'JWST/NIRCam.F200W', 'JWST/NIRCam.F277W', 'JWST/NIRCam.F356W', 'JWST/NIRCam.F410M',\n",
    "           'HST/ACS_WFC.F435W', 'JWST/NIRCam.F444W', 'HST/ACS_WFC.F606W', 'HST/ACS_WFC.F814W']\n",
    "\n",
    "for i in range(len(filters)):\n",
    "    data = SvoFps.get_transmission_data(filters[i])\n",
    "    data.write('/Users/Maya/Desktop/block 4/block 4 project/filters/' + filters[i][-5:] + '.txt', format='ascii.no_header', overwrite=True)"
   ]
  },
  {
   "cell_type": "markdown",
   "id": "6b20d05d",
   "metadata": {},
   "source": [
    "## Functions"
   ]
  },
  {
   "cell_type": "code",
   "execution_count": 1165,
   "id": "88d484e1",
   "metadata": {},
   "outputs": [],
   "source": [
    "def load_ceers(identifier):\n",
    "    \"\"\"\"\"\n",
    "        Loading photometry of individual galaxy from CEERS catalogue\n",
    "        id = ID_2 (identifier from Jin+24)\n",
    "    \"\"\"\n",
    "    ID = int(identifier)\n",
    "    index = int(match_aper2[match_aper2['ID_2'] == ID]['id_1']) # find row\n",
    "    cat = match_aper2[index: index+1] # extract row\n",
    "    df = cat.to_pandas()\n",
    "    \n",
    "    flux_cols = [colname for colname in df.columns if '_tot_2' in colname]\n",
    "    err_cols = [colname for colname in df.columns if '_etot_2' in colname]\n",
    "\n",
    "    fluxes = df[flux_cols].values.flatten()\n",
    "    errors = df[err_cols].values.flatten()\n",
    "    \n",
    "    neg_indices = np.where(fluxes < 0)[0] #np.where(np.isnan(fluxes))[0]\n",
    "    \n",
    "    fluxes = np.delete(fluxes, neg_indices)\n",
    "    errors = np.delete(errors, neg_indices)\n",
    "\n",
    "    photometry = np.c_[fluxes, errors]\n",
    "            \n",
    "    return photometry"
   ]
  },
  {
   "cell_type": "code",
   "execution_count": 1166,
   "id": "9de4fac0",
   "metadata": {},
   "outputs": [],
   "source": [
    "def correct_filt_list(identifier):\n",
    "    \"\"\"\"\"\n",
    "        Returns the relevant HST/JWST filters that are available for a specific galaxy\n",
    "    \"\"\"\n",
    "    ID = int(identifier)\n",
    "    index = int(match_aper2[match_aper2['ID_2'] == ID]['id_1']) # find row\n",
    "    cat = match_aper2[index: index+1] # extract row\n",
    "    df = cat.to_pandas()\n",
    "    \n",
    "    flux_cols = [colname for colname in df.columns if '_tot_2' in colname]\n",
    "    err_cols = [colname for colname in df.columns if '_etot_2' in colname]\n",
    "\n",
    "    fluxes = df[flux_cols].values.flatten()\n",
    "    errors = df[err_cols].values.flatten()\n",
    "    \n",
    "    neg_indices = np.where(fluxes < 0)[0]\n",
    "    \n",
    "    filt_list = ['filters/F105W.txt', 'filters/F115W.txt', 'filters/F125W.txt', 'filters/F140W.txt', \n",
    "             'filters/F150W.txt', 'filters/F160W.txt', 'filters/F200W.txt', 'filters/F277W.txt',\n",
    "             'filters/F356W.txt', 'filters/F410M.txt', 'filters/F435W.txt', 'filters/F444W.txt', \n",
    "             'filters/F606W.txt', 'filters/F814W.txt']\n",
    "\n",
    "    filt_list = np.delete(filt_list, neg_indices)\n",
    "\n",
    "    with open('/Users/Maya/Desktop/block 4/block 4 project/filters/filt_list.txt', 'w') as file:\n",
    "        for item in filt_list:\n",
    "            file.write(\"%s\\n\" % item)\n",
    "\n",
    "    hst_jwst_filts = np.loadtxt(\"filters/filt_list.txt\", dtype=\"str\")\n",
    "    \n",
    "    return hst_jwst_filts"
   ]
  },
  {
   "cell_type": "code",
   "execution_count": 1167,
   "id": "eafd1cf8",
   "metadata": {},
   "outputs": [],
   "source": [
    "def get_fit_instructions(identifier, agn=False):\n",
    "    \"\"\" Returns fit instructions (fixed, redshift specific)\n",
    "    \"\"\"\n",
    "    ID = int(identifier)\n",
    "    index = int(match_aper2[match_aper2['ID_2'] == ID]['id_1']) # find row\n",
    "    cat = match_aper2[index: index+1]\n",
    "    \n",
    "    dust = {}\n",
    "    dust[\"type\"] = \"Salim\"\n",
    "    dust[\"eta\"] = (1., 5.)\n",
    "    dust[\"Av\"] = (0., 4.)\n",
    "    dust[\"delta\"] = (-0.3, 0.3)\n",
    "    dust[\"delta_prior\"] = \"Gaussian\"\n",
    "    dust[\"delta_prior_mu\"] = 0.\n",
    "    dust[\"delta_prior_sigma\"] = 0.05\n",
    "    dust[\"B\"] = (0., 5.)\n",
    "\n",
    "    dblplaw = {}\n",
    "    dblplaw[\"massformed\"] = (0., 13.)\n",
    "    dblplaw[\"metallicity\"] = (0.005, 5.)\n",
    "    dblplaw[\"metallicity_prior\"] = \"log_10\"\n",
    "    dblplaw[\"alpha\"] = (0.01, 1000.)\n",
    "    dblplaw[\"alpha_prior\"] = \"log_10\"\n",
    "    dblplaw[\"beta\"] = (0.01, 1000.)\n",
    "    dblplaw[\"beta_prior\"] = \"log_10\"\n",
    "    dblplaw[\"tau\"] = (0.1, 15.)\n",
    "\n",
    "    nebular = {}\n",
    "    nebular[\"logU\"] = (-4., -2.)\n",
    "    nebular[\"metallicity\"] = (0.005, 5.)\n",
    "    nebular[\"metallicity_prior\"] = \"log_10\"\n",
    "\n",
    "    fit_instructions = {}\n",
    "    fit_instructions[\"dust\"] = dust\n",
    "    fit_instructions[\"dblplaw\"] = dblplaw\n",
    "    fit_instructions[\"nebular\"] = nebular\n",
    "    fit_instructions[\"t_bc\"] = 0.01\n",
    "    fit_instructions[\"redshift\"] = float(cat['zspec'])\n",
    "    fit_instructions[\"massformed\"] = (0., 13.)\n",
    "    \n",
    "    if agn:\n",
    "        agn_comp = {}\n",
    "        agn_comp[\"hanorm\"] = (0., 25.*10**-18)\n",
    "        agn_comp[\"f5100A\"] = (0., 10**-19) # rest-frame erg/s/cm^2/A\n",
    "        agn_comp[\"sigma\"] = (1000., 5000.)\n",
    "        agn_comp[\"sigma_prior\"] = \"log_10\"\n",
    "        agn_comp[\"alphalam\"] = (-2., 2.)\n",
    "        agn_comp[\"alphalam_prior\"] = \"Gaussian\"\n",
    "        agn_comp[\"alphalam_prior_mu\"] = -1.5\n",
    "        agn_comp[\"alphalam_prior_sigma\"] = 0.5\n",
    "        agn_comp[\"betalam\"] = (-2, 2.)\n",
    "        agn_comp[\"betalam_prior\"] = \"Gaussian\"\n",
    "        agn_comp[\"betalam_prior_mu\"] = 0.5\n",
    "        agn_comp[\"betalam_prior_sigma\"] = 0.5\n",
    "        fit_instructions[\"agn\"] = agn_comp\n",
    "    \n",
    "    return fit_instructions\n",
    "\n",
    "def get_stats(fit):\n",
    "    \"\"\" Prints the best-fit values for stellar mass and SFR based on the index of the\n",
    "        minimized chi-squared value from the fit and calculates 68% confidence interval\n",
    "        on both variables.\n",
    "    \"\"\"\n",
    "    print('---------------------------')\n",
    "    print('Galaxy ID =', str(int(fit.galaxy.ID)), \":\")\n",
    "    print('---------------------------')\n",
    "    samples = fit.posterior.samples['chisq_phot']\n",
    "    \n",
    "    samples = list(fit.posterior.samples['chisq_phot'])\n",
    "    best_value_index = samples.index(min(fit.posterior.samples['chisq_phot']))\n",
    "    \n",
    "    variables = [\"sfr\", \"mass_weighted_age\", \"stellar_mass\", \"ssfr\"]\n",
    "    titles = ['SFR', 'Mass Weighted Age', 'Stellar Mass', 'sSFR']\n",
    "    units = ['M_\\odot yr^{-1}', 'Gyr', 'M_\\odot', 'yr^{-1}']\n",
    "    \n",
    "    final = [] # in the order of sfr, mass_weighted_age, stellar_mass, ssfr\n",
    "    \n",
    "    for i in range(len(variables)):\n",
    "        v = variables[i]\n",
    "        t = titles[i]\n",
    "        u = units[i]\n",
    "        print('***', t, '***')\n",
    "        best = fit.posterior.samples[v][best_value_index]\n",
    "        print('Best', t, 'value =', round(best, 3))\n",
    "        lower = np.percentile(fit.posterior.samples[v], 16)\n",
    "        upper = np.percentile(fit.posterior.samples[v], 84)\n",
    "        print(np.percentile(fit.posterior.samples[v], 99))\n",
    "        print(f\"68% interval for {t}: [{round(lower, 3)}, {round(upper, 3)}]\")\n",
    "        \n",
    "        final.append(best)\n",
    "        final.append(upper)\n",
    "        final.append(lower)\n",
    "\n",
    "        display(Math(rf\"\\text{{{t}}} = \\text{{{round(best, 3)}}}_{{- {round(best - lower, 2)}}}^{{+ {round(upper - best, 2)}}} \\text{{{'  '}}} {u}\"))\n",
    "    \n",
    "    print('-------------------------------------------------------------------------------')\n",
    "\n",
    "    return final\n",
    "\n",
    "def plot_stats(fit, variables=[\"sfr\", \"mass_weighted_age\", \"stellar_mass\", \"ssfr\"]):\n",
    "    \"\"\" Plots the chi squared values as a function of stellar mass\n",
    "    \"\"\"\n",
    "    for variable in variables:\n",
    "        fig = plt.figure(figsize=(12, 7))\n",
    "        plt.scatter(fit.posterior.samples[variable], fit.posterior.samples['chisq_phot'])\n",
    "        path = \"pipes/plots/\" + fit.run + \"/\" + fit.galaxy.ID + f\"_chisq_{variable}.pdf\"\n",
    "        plt.xlabel(variable); plt.ylabel('chisq_phot')\n",
    "        plt.title('Galaxy ' + str(int(fit.galaxy.ID)))\n",
    "        plt.savefig(path, bbox_inches=\"tight\")\n",
    "        plt.close(fig)"
   ]
  },
  {
   "cell_type": "code",
   "execution_count": 1175,
   "id": "8f524609",
   "metadata": {},
   "outputs": [],
   "source": [
    "def plot_hists_spectra(fit):\n",
    "    gs = mpl.gridspec.GridSpec(1, 4)\n",
    "    fig = plt.figure(figsize=(10, 5))\n",
    "    labels = [\"sfr\", \"mass_weighted_age\", \"stellar_mass\", \"ssfr\"]\n",
    "    titles = ['SFR', 'Mass Weighted Age', 'Stellar Mass', 'sSFR']\n",
    "    units = ['$M_\\odot yr^{-1}$', '$Gyr$', '$M_\\odot$', '$yr^{-1}$']\n",
    "    \n",
    "    post_quantities = dict(zip(labels, [fit.posterior.samples[l] for l in labels]))\n",
    "    \n",
    "    axes = []\n",
    "    for i in range(4):\n",
    "        ax = plt.subplot(gs[0, i])\n",
    "        axes.append(ax)\n",
    "        pipes.plotting.hist1d(post_quantities[labels[i]], ax, smooth=True)\n",
    "        ax.set_xlabel(titles[i]+' \\n['+units[i]+']', fontsize=12)\n",
    "        \n",
    "        lower = np.percentile(post_quantities[labels[i]], 0)\n",
    "        upper = np.percentile(post_quantities[labels[i]], 100)\n",
    "        \n",
    "        ax.set_xlim(lower, upper)\n",
    "        \n",
    "        if i == 3:\n",
    "            print(np.percentile(post_quantities[labels[i]], 50))\n",
    "            #ax.set_xlim([-100, -15])\n",
    "            ax.set_xticks([-8.73])\n",
    "        if i == 2:\n",
    "            ax.set_xlim(10.78, 10.82)\n",
    "            #ax.set_xticks([10.82])\n",
    "        if i == 0:\n",
    "            print(np.percentile(post_quantities[labels[i]], 99))\n",
    "            ax.set_xlim(110, )\n",
    "            #ax.set_xticks([-1e-12, 1e-12])\n",
    "            \n",
    "    plt.suptitle('Galaxy '+str(fit.galaxy.ID) +' (E)', fontsize=16)\n",
    "        \n",
    "    plt.show()"
   ]
  },
  {
   "cell_type": "markdown",
   "id": "062a81ed",
   "metadata": {},
   "source": [
    "## Pipeline"
   ]
  },
  {
   "cell_type": "code",
   "execution_count": 1181,
   "id": "6748e22d",
   "metadata": {},
   "outputs": [],
   "source": [
    "def pipeline(identifier, agn=False):\n",
    "    \"\"\" Pipeline of creating, fitting, and plotting galaxies from Jin+24.\n",
    "    \"\"\"\n",
    "    counter = 601\n",
    "    \n",
    "    print('ID =', identifier)\n",
    "        \n",
    "    # Get filters and fit instructions\n",
    "    hst_jwst_filts = correct_filt_list(identifier)\n",
    "    fit_instructions = get_fit_instructions(identifier, agn=agn)\n",
    "\n",
    "    # Create galaxy and fit\n",
    "    galaxy = pipes.galaxy(identifier, load_ceers, spectrum_exists=False, filt_list=hst_jwst_filts, phot_units='mujy')\n",
    "    random_name = 'test' + str(counter) + '_' + identifier\n",
    "    fit = pipes.fit(galaxy, fit_instructions, run=random_name)\n",
    "    \n",
    "    # Find bounds\n",
    "    #ymin, ymax = round(min(galaxy.photometry[:, 1]/1e-19) - 0.5, 1),  round(max(galaxy.photometry[:, 1]/1e-19) + 0.5, 1)\n",
    "    xmin, xmax = round(min(np.log10(galaxy.photometry[:, 0]))-0.1, 1),  round(max(np.log10(galaxy.photometry[:, 0]))+0.1, 1)\n",
    "\n",
    "    # Run fit\n",
    "    fit.fit(verbose=False, pool=4)\n",
    "\n",
    "    # Plot and save spectrum posterior\n",
    "    fig, ax = fit.plot_spectrum_posterior(save=False, show=False)\n",
    "    fig.set_size_inches(12, 6)\n",
    "\n",
    "    axes = fig.get_axes()\n",
    "    axes[0].set_xlim(xmin, xmax)\n",
    "    axes[0].set_ylim(0, 3.7)\n",
    "    axes[0].set_title('Galaxy ' + identifier)\n",
    "\n",
    "    fig.savefig('/fits/'+identifier+'_fit1.pdf', dpi=300, bbox_inches='tight')\n",
    "    \n",
    "    # Other\n",
    "    fit.plot_sfh_posterior(save=True, show=False)\n",
    "    fit.plot_corner(save=True, show=False)\n",
    "\n",
    "    # Histograms of variables\n",
    "    plot_hists_spectra(fit)\n",
    "\n",
    "    # Get stats\n",
    "    stats = get_stats(fit)\n",
    "\n",
    "    # Plot chi sq vs. stellar mass\n",
    "    plot_stats(fit)\n",
    "    \n",
    "    counter += 1\n",
    "    \n",
    "    return stats, fit"
   ]
  },
  {
   "cell_type": "markdown",
   "id": "a9f659fc",
   "metadata": {},
   "source": [
    "# Run:"
   ]
  },
  {
   "cell_type": "code",
   "execution_count": 785,
   "id": "4c7e9a45",
   "metadata": {},
   "outputs": [],
   "source": [
    "galaxy_dictionary_final = {} \n",
    "fits_final = []"
   ]
  },
  {
   "cell_type": "code",
   "execution_count": 786,
   "id": "7593688e",
   "metadata": {
    "collapsed": true
   },
   "outputs": [
    {
     "name": "stderr",
     "output_type": "stream",
     "text": [
      "Fitting galaxies:   0%|          | 0/5 [00:00<?, ?galaxy/s]"
     ]
    },
    {
     "name": "stdout",
     "output_type": "stream",
     "text": [
      "ID = 56033\n",
      "MultiNest not available. Switching to nautilus.\n",
      "\n",
      "Bagpipes: fitting object 56033\n",
      "\n",
      "\n",
      "Completed in 177.0 seconds.\n",
      "\n",
      "Parameter                          Posterior percentiles\n",
      "                                16th       50th       84th\n",
      "----------------------------------------------------------\n",
      "dblplaw:alpha                207.618    315.518    465.955\n",
      "dblplaw:beta                  10.314     11.367     12.992\n",
      "dblplaw:massformed            11.023     11.024     11.024\n",
      "dblplaw:metallicity            0.506      0.515      0.525\n",
      "dblplaw:tau                    1.304      1.320      1.332\n",
      "dust:Av                        0.113      0.122      0.130\n",
      "dust:B                         2.027      2.766      3.437\n",
      "dust:delta                    -0.046     -0.033     -0.025\n",
      "dust:eta                       3.615      4.031      4.395\n",
      "massformed                     2.961      5.720      9.078\n",
      "nebular:logU                  -3.311     -2.939     -2.561\n",
      "nebular:metallicity            0.012      0.031      0.092\n",
      "\n",
      "\n",
      "9.16500515759116e-104\n",
      "1.4709012419231117e-34\n",
      "9.835183440227916e-12\n",
      "---------------------------\n",
      "Galaxy ID = 56033 :\n",
      "---------------------------\n",
      "*** SFR ***\n",
      "Best SFR value = 0.0\n",
      "2.9611460802304706e-14\n",
      "68% interval for SFR: [0.0, 0.0]\n"
     ]
    },
    {
     "data": {
      "text/latex": [
       "$\\displaystyle \\text{SFR} = \\text{0.0}_{- 0.0}^{+ 0.0} \\text{  } M_\\odot yr^{-1}$"
      ],
      "text/plain": [
       "<IPython.core.display.Math object>"
      ]
     },
     "metadata": {},
     "output_type": "display_data"
    },
    {
     "name": "stdout",
     "output_type": "stream",
     "text": [
      "*** Mass Weighted Age ***\n",
      "Best Mass Weighted Age value = 0.586\n",
      "0.6043962567140951\n",
      "68% interval for Mass Weighted Age: [0.586, 0.597]\n"
     ]
    },
    {
     "data": {
      "text/latex": [
       "$\\displaystyle \\text{Mass Weighted Age} = \\text{0.586}_{- 0.0}^{+ 0.01} \\text{  } Gyr$"
      ],
      "text/plain": [
       "<IPython.core.display.Math object>"
      ]
     },
     "metadata": {},
     "output_type": "display_data"
    },
    {
     "name": "stdout",
     "output_type": "stream",
     "text": [
      "*** Stellar Mass ***\n",
      "Best Stellar Mass value = 10.819\n",
      "10.820710707133932\n",
      "68% interval for Stellar Mass: [10.819, 10.82]\n"
     ]
    },
    {
     "data": {
      "text/latex": [
       "$\\displaystyle \\text{Stellar Mass} = \\text{10.819}_{- 0.0}^{+ 0.0} \\text{  } M_\\odot$"
      ],
      "text/plain": [
       "<IPython.core.display.Math object>"
      ]
     },
     "metadata": {},
     "output_type": "display_data"
    },
    {
     "name": "stdout",
     "output_type": "stream",
     "text": [
      "*** sSFR ***\n",
      "Best sSFR value = -50.727\n",
      "-24.352379459791536\n",
      "68% interval for sSFR: [-62.356, -32.251]\n"
     ]
    },
    {
     "data": {
      "text/latex": [
       "$\\displaystyle \\text{sSFR} = \\text{-50.727}_{- 11.63}^{+ 18.48} \\text{  } yr^{-1}$"
      ],
      "text/plain": [
       "<IPython.core.display.Math object>"
      ]
     },
     "metadata": {},
     "output_type": "display_data"
    },
    {
     "name": "stdout",
     "output_type": "stream",
     "text": [
      "-------------------------------------------------------------------------------\n"
     ]
    },
    {
     "name": "stderr",
     "output_type": "stream",
     "text": [
      "Fitting galaxies:  20%|██        | 1/5 [04:03<16:14, 243.66s/galaxy]"
     ]
    },
    {
     "name": "stdout",
     "output_type": "stream",
     "text": [
      "ID = 39138\n",
      "MultiNest not available. Switching to nautilus.\n",
      "\n",
      "Bagpipes: fitting object 39138\n",
      "\n",
      "\n",
      "Completed in 277.1 seconds.\n",
      "\n",
      "Parameter                          Posterior percentiles\n",
      "                                16th       50th       84th\n",
      "----------------------------------------------------------\n",
      "agn:alphalam                  -1.642     -1.595     -1.548\n",
      "agn:betalam                    0.228      0.307      0.381\n",
      "agn:f5100A                     0.000      0.000      0.000\n",
      "agn:hanorm                     0.000      0.000      0.000\n",
      "agn:sigma                   2908.187   3155.529   3377.870\n",
      "dblplaw:alpha                  0.471      0.525      0.579\n",
      "dblplaw:beta                  22.295     24.954     27.820\n",
      "dblplaw:massformed            10.972     10.979     10.988\n",
      "dblplaw:metallicity            0.388      0.394      0.399\n",
      "dblplaw:tau                    1.072      1.087      1.102\n",
      "dust:Av                        0.955      0.974      0.990\n",
      "dust:B                         1.136      1.313      1.521\n",
      "dust:delta                    -0.045     -0.037     -0.029\n",
      "dust:eta                       1.540      1.583      1.634\n",
      "massformed                     1.748      2.542      3.343\n",
      "nebular:logU                  -2.107     -2.080     -2.057\n",
      "nebular:metallicity            0.169      0.172      0.174\n",
      "\n",
      "\n",
      "103.57359184156309\n",
      "118.91573572566024\n",
      "124.24992106669812\n",
      "---------------------------\n",
      "Galaxy ID = 39138 :\n",
      "---------------------------\n",
      "*** SFR ***\n",
      "Best SFR value = 121.024\n",
      "122.25240604018045\n",
      "68% interval for SFR: [116.406, 120.639]\n"
     ]
    },
    {
     "data": {
      "text/latex": [
       "$\\displaystyle \\text{SFR} = \\text{121.024}_{- 4.62}^{+ -0.38} \\text{  } M_\\odot yr^{-1}$"
      ],
      "text/plain": [
       "<IPython.core.display.Math object>"
      ]
     },
     "metadata": {},
     "output_type": "display_data"
    },
    {
     "name": "stdout",
     "output_type": "stream",
     "text": [
      "*** Mass Weighted Age ***\n",
      "Best Mass Weighted Age value = 0.38\n",
      "0.3950985394773698\n",
      "68% interval for Mass Weighted Age: [0.374, 0.388]\n"
     ]
    },
    {
     "data": {
      "text/latex": [
       "$\\displaystyle \\text{Mass Weighted Age} = \\text{0.38}_{- 0.01}^{+ 0.01} \\text{  } Gyr$"
      ],
      "text/plain": [
       "<IPython.core.display.Math object>"
      ]
     },
     "metadata": {},
     "output_type": "display_data"
    },
    {
     "name": "stdout",
     "output_type": "stream",
     "text": [
      "*** Stellar Mass ***\n",
      "Best Stellar Mass value = 10.806\n",
      "10.817336995029459\n",
      "68% interval for Stellar Mass: [10.795, 10.81]\n"
     ]
    },
    {
     "data": {
      "text/latex": [
       "$\\displaystyle \\text{Stellar Mass} = \\text{10.806}_{- 0.01}^{+ 0.0} \\text{  } M_\\odot$"
      ],
      "text/plain": [
       "<IPython.core.display.Math object>"
      ]
     },
     "metadata": {},
     "output_type": "display_data"
    },
    {
     "name": "stdout",
     "output_type": "stream",
     "text": [
      "*** sSFR ***\n",
      "Best sSFR value = -8.723\n",
      "-8.714263418240225\n",
      "68% interval for sSFR: [-8.736, -8.722]\n"
     ]
    },
    {
     "data": {
      "text/latex": [
       "$\\displaystyle \\text{sSFR} = \\text{-8.723}_{- 0.01}^{+ 0.0} \\text{  } yr^{-1}$"
      ],
      "text/plain": [
       "<IPython.core.display.Math object>"
      ]
     },
     "metadata": {},
     "output_type": "display_data"
    },
    {
     "name": "stdout",
     "output_type": "stream",
     "text": [
      "-------------------------------------------------------------------------------\n"
     ]
    },
    {
     "name": "stderr",
     "output_type": "stream",
     "text": [
      "Fitting galaxies:  40%|████      | 2/5 [10:23<16:10, 323.50s/galaxy]"
     ]
    },
    {
     "name": "stdout",
     "output_type": "stream",
     "text": [
      "ID = 2342\n",
      "MultiNest not available. Switching to nautilus.\n",
      "\n",
      "Bagpipes: fitting object 2342\n",
      "\n",
      "\n",
      "Completed in 118.9 seconds.\n",
      "\n",
      "Parameter                          Posterior percentiles\n",
      "                                16th       50th       84th\n",
      "----------------------------------------------------------\n",
      "dblplaw:alpha                  0.129      0.351      0.872\n",
      "dblplaw:beta                  10.044     15.325     24.662\n",
      "dblplaw:massformed            10.491     10.523     10.555\n",
      "dblplaw:metallicity            2.403      2.733      3.125\n",
      "dblplaw:tau                    1.363      1.436      1.489\n",
      "dust:Av                        0.437      0.486      0.532\n",
      "dust:B                         0.097      0.294      0.615\n",
      "dust:delta                    -0.067     -0.040     -0.011\n",
      "dust:eta                       2.406      2.729      3.061\n",
      "massformed                     2.184      3.709      5.029\n",
      "nebular:logU                  -3.432     -3.056     -2.793\n",
      "nebular:metallicity            0.142      0.228      0.357\n",
      "\n",
      "\n",
      "55.18311809534639\n",
      "81.06410784148488\n",
      "102.65928538633975\n",
      "---------------------------\n",
      "Galaxy ID = 2342 :\n",
      "---------------------------\n",
      "*** SFR ***\n",
      "Best SFR value = 80.324\n",
      "97.55142288214435\n",
      "68% interval for SFR: [73.059, 88.673]\n"
     ]
    },
    {
     "data": {
      "text/latex": [
       "$\\displaystyle \\text{SFR} = \\text{80.324}_{- 7.26}^{+ 8.35} \\text{  } M_\\odot yr^{-1}$"
      ],
      "text/plain": [
       "<IPython.core.display.Math object>"
      ]
     },
     "metadata": {},
     "output_type": "display_data"
    },
    {
     "name": "stdout",
     "output_type": "stream",
     "text": [
      "*** Mass Weighted Age ***\n",
      "Best Mass Weighted Age value = 0.237\n",
      "0.3566623064411157\n",
      "68% interval for Mass Weighted Age: [0.197, 0.275]\n"
     ]
    },
    {
     "data": {
      "text/latex": [
       "$\\displaystyle \\text{Mass Weighted Age} = \\text{0.237}_{- 0.04}^{+ 0.04} \\text{  } Gyr$"
      ],
      "text/plain": [
       "<IPython.core.display.Math object>"
      ]
     },
     "metadata": {},
     "output_type": "display_data"
    },
    {
     "name": "stdout",
     "output_type": "stream",
     "text": [
      "*** Stellar Mass ***\n",
      "Best Stellar Mass value = 10.355\n",
      "10.425213830863605\n",
      "68% interval for Stellar Mass: [10.33, 10.382]\n"
     ]
    },
    {
     "data": {
      "text/latex": [
       "$\\displaystyle \\text{Stellar Mass} = \\text{10.355}_{- 0.02}^{+ 0.03} \\text{  } M_\\odot$"
      ],
      "text/plain": [
       "<IPython.core.display.Math object>"
      ]
     },
     "metadata": {},
     "output_type": "display_data"
    },
    {
     "name": "stdout",
     "output_type": "stream",
     "text": [
      "*** sSFR ***\n",
      "Best sSFR value = -8.45\n",
      "-8.342062147509216\n",
      "68% interval for sSFR: [-8.514, -8.391]\n"
     ]
    },
    {
     "data": {
      "text/latex": [
       "$\\displaystyle \\text{sSFR} = \\text{-8.45}_{- 0.06}^{+ 0.06} \\text{  } yr^{-1}$"
      ],
      "text/plain": [
       "<IPython.core.display.Math object>"
      ]
     },
     "metadata": {},
     "output_type": "display_data"
    },
    {
     "name": "stdout",
     "output_type": "stream",
     "text": [
      "-------------------------------------------------------------------------------\n"
     ]
    },
    {
     "name": "stderr",
     "output_type": "stream",
     "text": [
      "Fitting galaxies:  60%|██████    | 3/5 [13:09<08:23, 251.80s/galaxy]"
     ]
    },
    {
     "name": "stdout",
     "output_type": "stream",
     "text": [
      "ID = 12903\n",
      "MultiNest not available. Switching to nautilus.\n",
      "\n",
      "Bagpipes: fitting object 12903\n",
      "\n",
      "\n",
      "Completed in 114.4 seconds.\n",
      "\n",
      "Parameter                          Posterior percentiles\n",
      "                                16th       50th       84th\n",
      "----------------------------------------------------------\n",
      "dblplaw:alpha                  0.069      0.327      0.916\n",
      "dblplaw:beta                   0.107      1.183     16.747\n",
      "dblplaw:massformed            10.993     11.067     11.140\n",
      "dblplaw:metallicity            0.010      0.026      0.095\n",
      "dblplaw:tau                    0.622      0.914      1.170\n",
      "dust:Av                        0.903      1.057      1.234\n",
      "dust:B                         1.063      2.481      3.999\n",
      "dust:delta                    -0.055     -0.021      0.009\n",
      "dust:eta                       1.583      2.748      3.999\n",
      "massformed                     4.318      7.175     10.116\n",
      "nebular:logU                  -3.835     -3.421     -2.858\n",
      "nebular:metallicity            0.018      0.122      0.499\n",
      "\n",
      "\n"
     ]
    },
    {
     "name": "stderr",
     "output_type": "stream",
     "text": [
      "/Library/Frameworks/Python.framework/Versions/3.8/lib/python3.8/site-packages/bagpipes/models/star_formation_history.py:278: RuntimeWarning: overflow encountered in power\n",
      "  sfr[mask] = ((t/tau)**alpha + (t/tau)**-beta)**-1\n"
     ]
    },
    {
     "name": "stdout",
     "output_type": "stream",
     "text": [
      "14.130677699238936\n",
      "76.30953391931584\n",
      "486.1788289562475\n",
      "---------------------------\n",
      "Galaxy ID = 12903 :\n",
      "---------------------------\n",
      "*** SFR ***\n",
      "Best SFR value = 115.636\n",
      "192.4892498160865\n",
      "68% interval for SFR: [55.849, 110.638]\n"
     ]
    },
    {
     "data": {
      "text/latex": [
       "$\\displaystyle \\text{SFR} = \\text{115.636}_{- 59.79}^{+ -5.0} \\text{  } M_\\odot yr^{-1}$"
      ],
      "text/plain": [
       "<IPython.core.display.Math object>"
      ]
     },
     "metadata": {},
     "output_type": "display_data"
    },
    {
     "name": "stdout",
     "output_type": "stream",
     "text": [
      "*** Mass Weighted Age ***\n",
      "Best Mass Weighted Age value = 0.491\n",
      "1.0904131031173994\n",
      "68% interval for Mass Weighted Age: [0.472, 0.942]\n"
     ]
    },
    {
     "data": {
      "text/latex": [
       "$\\displaystyle \\text{Mass Weighted Age} = \\text{0.491}_{- 0.02}^{+ 0.45} \\text{  } Gyr$"
      ],
      "text/plain": [
       "<IPython.core.display.Math object>"
      ]
     },
     "metadata": {},
     "output_type": "display_data"
    },
    {
     "name": "stdout",
     "output_type": "stream",
     "text": [
      "*** Stellar Mass ***\n",
      "Best Stellar Mass value = 10.861\n",
      "10.968544369064686\n",
      "68% interval for Stellar Mass: [10.788, 10.917]\n"
     ]
    },
    {
     "data": {
      "text/latex": [
       "$\\displaystyle \\text{Stellar Mass} = \\text{10.861}_{- 0.07}^{+ 0.06} \\text{  } M_\\odot$"
      ],
      "text/plain": [
       "<IPython.core.display.Math object>"
      ]
     },
     "metadata": {},
     "output_type": "display_data"
    },
    {
     "name": "stdout",
     "output_type": "stream",
     "text": [
      "*** sSFR ***\n",
      "Best sSFR value = -8.798\n",
      "-8.403044084930277\n",
      "68% interval for sSFR: [-9.095, -8.779]\n"
     ]
    },
    {
     "data": {
      "text/latex": [
       "$\\displaystyle \\text{sSFR} = \\text{-8.798}_{- 0.3}^{+ 0.02} \\text{  } yr^{-1}$"
      ],
      "text/plain": [
       "<IPython.core.display.Math object>"
      ]
     },
     "metadata": {},
     "output_type": "display_data"
    },
    {
     "name": "stdout",
     "output_type": "stream",
     "text": [
      "-------------------------------------------------------------------------------\n"
     ]
    },
    {
     "name": "stderr",
     "output_type": "stream",
     "text": [
      "Fitting galaxies:  80%|████████  | 4/5 [15:51<03:36, 216.43s/galaxy]"
     ]
    },
    {
     "name": "stdout",
     "output_type": "stream",
     "text": [
      "ID = 17600\n",
      "MultiNest not available. Switching to nautilus.\n",
      "\n",
      "Bagpipes: fitting object 17600\n",
      "\n",
      "\n",
      "Completed in 81.1 seconds.\n",
      "\n",
      "Parameter                          Posterior percentiles\n",
      "                                16th       50th       84th\n",
      "----------------------------------------------------------\n",
      "dblplaw:alpha                  0.044      0.206      0.742\n",
      "dblplaw:beta                   0.169      1.604     14.098\n",
      "dblplaw:massformed            11.314     11.431     11.541\n",
      "dblplaw:metallicity            0.092      0.309      1.290\n",
      "dblplaw:tau                    0.595      0.873      1.126\n",
      "dust:Av                        1.317      1.497      1.764\n",
      "dust:B                         0.670      1.615      2.459\n",
      "dust:delta                    -0.004      0.019      0.047\n",
      "dust:eta                       1.981      2.743      3.444\n",
      "massformed                     4.689      7.856     11.130\n",
      "nebular:logU                  -3.627     -3.234     -2.569\n",
      "nebular:metallicity            0.025      0.191      1.172\n",
      "\n",
      "\n"
     ]
    },
    {
     "name": "stderr",
     "output_type": "stream",
     "text": [
      "/Library/Frameworks/Python.framework/Versions/3.8/lib/python3.8/site-packages/bagpipes/models/star_formation_history.py:278: RuntimeWarning: overflow encountered in power\n",
      "  sfr[mask] = ((t/tau)**alpha + (t/tau)**-beta)**-1\n"
     ]
    },
    {
     "name": "stdout",
     "output_type": "stream",
     "text": [
      "84.33224756024933\n",
      "194.5795225655789\n",
      "641.2292900217259\n",
      "---------------------------\n",
      "Galaxy ID = 17600 :\n",
      "---------------------------\n",
      "*** SFR ***\n",
      "Best SFR value = 124.481\n",
      "503.5328578298252\n",
      "68% interval for SFR: [144.56, 302.988]\n"
     ]
    },
    {
     "data": {
      "text/latex": [
       "$\\displaystyle \\text{SFR} = \\text{124.481}_{- -20.08}^{+ 178.51} \\text{  } M_\\odot yr^{-1}$"
      ],
      "text/plain": [
       "<IPython.core.display.Math object>"
      ]
     },
     "metadata": {},
     "output_type": "display_data"
    },
    {
     "name": "stdout",
     "output_type": "stream",
     "text": [
      "*** Mass Weighted Age ***\n",
      "Best Mass Weighted Age value = 0.974\n",
      "1.0744179807140553\n",
      "68% interval for Mass Weighted Age: [0.438, 0.901]\n"
     ]
    },
    {
     "data": {
      "text/latex": [
       "$\\displaystyle \\text{Mass Weighted Age} = \\text{0.974}_{- 0.54}^{+ -0.07} \\text{  } Gyr$"
      ],
      "text/plain": [
       "<IPython.core.display.Math object>"
      ]
     },
     "metadata": {},
     "output_type": "display_data"
    },
    {
     "name": "stdout",
     "output_type": "stream",
     "text": [
      "*** Stellar Mass ***\n",
      "Best Stellar Mass value = 11.25\n",
      "11.456901641290402\n",
      "68% interval for Stellar Mass: [11.126, 11.325]\n"
     ]
    },
    {
     "data": {
      "text/latex": [
       "$\\displaystyle \\text{Stellar Mass} = \\text{11.25}_{- 0.12}^{+ 0.07} \\text{  } M_\\odot$"
      ],
      "text/plain": [
       "<IPython.core.display.Math object>"
      ]
     },
     "metadata": {},
     "output_type": "display_data"
    },
    {
     "name": "stdout",
     "output_type": "stream",
     "text": [
      "*** sSFR ***\n",
      "Best sSFR value = -9.155\n",
      "-8.497107648461627\n",
      "68% interval for sSFR: [-9.056, -8.753]\n"
     ]
    },
    {
     "data": {
      "text/latex": [
       "$\\displaystyle \\text{sSFR} = \\text{-9.155}_{- -0.1}^{+ 0.4} \\text{  } yr^{-1}$"
      ],
      "text/plain": [
       "<IPython.core.display.Math object>"
      ]
     },
     "metadata": {},
     "output_type": "display_data"
    },
    {
     "name": "stdout",
     "output_type": "stream",
     "text": [
      "-------------------------------------------------------------------------------\n"
     ]
    },
    {
     "name": "stderr",
     "output_type": "stream",
     "text": [
      "Fitting galaxies: 100%|██████████| 5/5 [17:57<00:00, 215.48s/galaxy]\n"
     ]
    },
    {
     "data": {
      "image/png": "[encoded data removed]",
      "text/plain": [
       "<Figure size 864x432 with 1 Axes>"
      ]
     },
     "metadata": {
      "needs_background": "light"
     },
     "output_type": "display_data"
    },
    {
     "data": {
      "image/png": "[encoded data removed]",
      "text/plain": [
       "<Figure size 864x432 with 1 Axes>"
      ]
     },
     "metadata": {
      "needs_background": "light"
     },
     "output_type": "display_data"
    },
    {
     "data": {
      "image/png": "[encoded data removed]",
      "text/plain": [
       "<Figure size 864x432 with 1 Axes>"
      ]
     },
     "metadata": {
      "needs_background": "light"
     },
     "output_type": "display_data"
    },
    {
     "data": {
      "image/png": "[encoded data removed]",
      "text/plain": [
       "<Figure size 864x432 with 1 Axes>"
      ]
     },
     "metadata": {
      "needs_background": "light"
     },
     "output_type": "display_data"
    },
    {
     "data": {
      "image/png": "[encoded data removed]",
      "text/plain": [
       "<Figure size 864x432 with 1 Axes>"
      ]
     },
     "metadata": {
      "needs_background": "light"
     },
     "output_type": "display_data"
    }
   ],
   "source": [
    "identifiers = [\"56033\", \"39138\", \"2342\", \"12903\", \"17600\", \"19339\", \"29557\", \"30531\", \"36814\", \"42414\", \"46256\", \"48525\", \"49364\", \"54034\", \"55035\", \"55136\", \"55785\", \"56241\"] \n",
    "\n",
    "for galaxy_id in tqdm(identifiers, desc='Fitting galaxies', unit='galaxy'):\n",
    "    if galaxy_id == \"39138\":\n",
    "        stat, fit = pipeline(galaxy_id, agn=True)\n",
    "        galaxy_dictionary_final[galaxy_id] = stat\n",
    "        fits_final.append(fit)\n",
    "    else:\n",
    "        stat, fit = pipeline(galaxy_id)\n",
    "        galaxy_dictionary_final[galaxy_id] = stat\n",
    "        fits_final.append(fit)"
   ]
  },
  {
   "cell_type": "markdown",
   "id": "ea19c274",
   "metadata": {},
   "source": [
    "## Organize data"
   ]
  },
  {
   "cell_type": "code",
   "execution_count": 820,
   "id": "7a8a73be",
   "metadata": {},
   "outputs": [],
   "source": [
    "def get_mass_vs_sfr(galaxy_dictionary):\n",
    "    \"\"\" Output of pipeline for number of galaxy objects with corresponding error, plus literature values\n",
    "    \"\"\"\n",
    "    mass_2 = []\n",
    "    sfr_2 = []\n",
    "    age = []\n",
    "    ssfr = []\n",
    "    sfr_error_upper = []; sfr_error_lower = []\n",
    "    mass_error_lower = []; mass_error_upper = []\n",
    "    age_error_upper = []; age_error_lower = []\n",
    "    ssfr_error_lower = []; ssfr_error_upper = []\n",
    "\n",
    "    for item in list(galaxy_dictionary.values()): # [\"sfr\", \"mass_weighted_age\", \"stellar_mass\", \"ssfr\"]\n",
    "        sfr_2.append(item[0])\n",
    "        sfr_error_upper.append(abs(item[1]-item[0]))\n",
    "        sfr_error_lower.append(abs(item[0]-item[2]))\n",
    "        \n",
    "        age.append(item[3])\n",
    "        age_error_upper.append(abs(item[4]-item[3]))\n",
    "        age_error_lower.append(abs(item[3]-item[5]))\n",
    "        \n",
    "        mass_2.append(item[6])\n",
    "        mass_error_upper.append(abs(item[7]-item[6]))\n",
    "        mass_error_lower.append(abs(item[6]-item[8]))\n",
    "\n",
    "        ssfr.append(item[9])\n",
    "        ssfr_error_upper.append(abs(item[10]-item[9]))\n",
    "        ssfr_error_lower.append(abs(item[9]-item[11]))\n",
    "\n",
    "    return mass_2, sfr_2, age, ssfr, mass_error_lower, mass_error_upper, sfr_error_lower, \\\n",
    "            sfr_error_upper, age_error_lower, age_error_upper, ssfr_error_lower, ssfr_error_upper"
   ]
  },
  {
   "cell_type": "code",
   "execution_count": 821,
   "id": "77737326",
   "metadata": {},
   "outputs": [],
   "source": [
    "mass_2, sfr_2, age, ssfr, mass_error_lower, mass_error_upper, sfr_error_lower, \\\n",
    "sfr_error_upper, age_error_lower, age_error_upper, ssfr_error_lower, ssfr_error_upper = get_mass_vs_sfr(galaxy_dictionary_final)"
   ]
  },
  {
   "cell_type": "code",
   "execution_count": 822,
   "id": "3772c5d4",
   "metadata": {},
   "outputs": [],
   "source": [
    "df = pd.DataFrame()\n",
    "df['ids'] = list(galaxy_dictionary_final.keys())\n",
    "df['mass_2'] = mass_2\n",
    "df['mass_error_lower'] = mass_error_lower\n",
    "df['mass_error_upper'] = mass_error_upper\n",
    "df['sfr_2'] = sfr_2\n",
    "df['sfr_error_lower'] = sfr_error_lower\n",
    "df['sfr_error_upper'] = sfr_error_upper\n",
    "\n",
    "df['age'] = age\n",
    "df['age_error_lower'] = age_error_lower\n",
    "df['age_error_upper'] = age_error_upper\n",
    "df['ssfr'] = ssfr\n",
    "df['ssfr_error_lower'] = ssfr_error_lower\n",
    "df['ssfr_error_upper'] = ssfr_error_upper\n",
    "\n",
    "df['literature_masses'] = [10.82, 10.95, 10.55, 10.36, 10.9, 10.19, 9.59, 8.66, 9.66, 8.37, 10.41, 8.57, 9.57, 9.18, 8.62, 8.97, 10.07, 9.80]\n",
    "df['lit_mass_error_lower'] = [0.02, 0.03, 0.15, 0.05, 0.10, 0.17, 0.21, 0.07, 0.10, 0.36, 0.06, 0.11, 0.13, 0.07, 0.08, 0.06, 0.13, 0.09]\n",
    "df['lit_mass_error_upper'] = [0.02, 0.03, 0.16, 0.06, 0.09, 0.11, 0.17, 0.08, 0.10, 0.13, 0.05, 0.08, 0.07, 0.07, 0.09, 0.07, 0.09, 0.13]\n",
    "df['literature_sfr'] = [1e-99, 1e-99, 131, 293, 15, 15, 6, 5, 28, 2, 213, 2, 25, 11, 4, 10, 19, 72]\n",
    "df['lit_sfr_error_lower'] = [0, 0, 40, 38, 1, 2, 1, 1, 5, 1, 15, 1, 2, 1, 1, 1, 5, 14]\n",
    "df['lit_sfr_error_upper'] = [0, 0, 84, 38, 4, 3, 1, 1, 5, 1, 26, 1, 3, 1, 1, 1, 16, 25]"
   ]
  },
  {
   "cell_type": "code",
   "execution_count": 1191,
   "id": "e4a5dc66",
   "metadata": {
    "scrolled": false
   },
   "outputs": [
    {
     "data": {
      "text/html": [
       "<div>\n",
       "<style scoped>\n",
       "    .dataframe tbody tr th:only-of-type {\n",
       "        vertical-align: middle;\n",
       "    }\n",
       "\n",
       "    .dataframe tbody tr th {\n",
       "        vertical-align: top;\n",
       "    }\n",
       "\n",
       "    .dataframe thead th {\n",
       "        text-align: right;\n",
       "    }\n",
       "</style>\n",
       "<table border=\"1\" class=\"dataframe\">\n",
       "  <thead>\n",
       "    <tr style=\"text-align: right;\">\n",
       "      <th></th>\n",
       "      <th>ids</th>\n",
       "      <th>mass_2</th>\n",
       "      <th>mass_error_lower</th>\n",
       "      <th>mass_error_upper</th>\n",
       "      <th>sfr_2</th>\n",
       "      <th>sfr_error_lower</th>\n",
       "      <th>sfr_error_upper</th>\n",
       "      <th>age</th>\n",
       "      <th>age_error_lower</th>\n",
       "      <th>age_error_upper</th>\n",
       "      <th>ssfr</th>\n",
       "      <th>ssfr_error_lower</th>\n",
       "      <th>ssfr_error_upper</th>\n",
       "      <th>literature_masses</th>\n",
       "      <th>lit_mass_error_lower</th>\n",
       "      <th>lit_mass_error_upper</th>\n",
       "      <th>literature_sfr</th>\n",
       "      <th>lit_sfr_error_lower</th>\n",
       "      <th>lit_sfr_error_upper</th>\n",
       "      <th>sfr_percent_error</th>\n",
       "    </tr>\n",
       "  </thead>\n",
       "  <tbody>\n",
       "    <tr>\n",
       "      <th>0</th>\n",
       "      <td>56033</td>\n",
       "      <td>10.819114</td>\n",
       "      <td>0.000194</td>\n",
       "      <td>0.000963</td>\n",
       "      <td>1.235555e-40</td>\n",
       "      <td>1.235555e-40</td>\n",
       "      <td>3.704047e-22</td>\n",
       "      <td>0.586500</td>\n",
       "      <td>0.000693</td>\n",
       "      <td>0.010893</td>\n",
       "      <td>-50.727252</td>\n",
       "      <td>11.628649</td>\n",
       "      <td>18.475784</td>\n",
       "      <td>10.82</td>\n",
       "      <td>0.02</td>\n",
       "      <td>0.02</td>\n",
       "      <td>1.000000e-99</td>\n",
       "      <td>0</td>\n",
       "      <td>0</td>\n",
       "      <td>1.235555e+61</td>\n",
       "    </tr>\n",
       "    <tr>\n",
       "      <th>1</th>\n",
       "      <td>39138</td>\n",
       "      <td>10.805803</td>\n",
       "      <td>0.010315</td>\n",
       "      <td>0.004084</td>\n",
       "      <td>1.210240e+02</td>\n",
       "      <td>4.618144e+00</td>\n",
       "      <td>3.847452e-01</td>\n",
       "      <td>0.380252</td>\n",
       "      <td>0.006445</td>\n",
       "      <td>0.007503</td>\n",
       "      <td>-8.722932</td>\n",
       "      <td>0.012715</td>\n",
       "      <td>0.001125</td>\n",
       "      <td>10.95</td>\n",
       "      <td>0.03</td>\n",
       "      <td>0.03</td>\n",
       "      <td>1.000000e-99</td>\n",
       "      <td>0</td>\n",
       "      <td>0</td>\n",
       "      <td>1.210240e+103</td>\n",
       "    </tr>\n",
       "    <tr>\n",
       "      <th>2</th>\n",
       "      <td>2342</td>\n",
       "      <td>10.355000</td>\n",
       "      <td>0.024616</td>\n",
       "      <td>0.027317</td>\n",
       "      <td>8.032374e+01</td>\n",
       "      <td>7.264551e+00</td>\n",
       "      <td>8.349357e+00</td>\n",
       "      <td>0.237011</td>\n",
       "      <td>0.040330</td>\n",
       "      <td>0.037653</td>\n",
       "      <td>-8.450156</td>\n",
       "      <td>0.063717</td>\n",
       "      <td>0.059010</td>\n",
       "      <td>10.55</td>\n",
       "      <td>0.15</td>\n",
       "      <td>0.16</td>\n",
       "      <td>1.310000e+02</td>\n",
       "      <td>40</td>\n",
       "      <td>84</td>\n",
       "      <td>3.868417e+01</td>\n",
       "    </tr>\n",
       "    <tr>\n",
       "      <th>3</th>\n",
       "      <td>12903</td>\n",
       "      <td>10.860755</td>\n",
       "      <td>0.073071</td>\n",
       "      <td>0.055816</td>\n",
       "      <td>1.156358e+02</td>\n",
       "      <td>5.978722e+01</td>\n",
       "      <td>4.997491e+00</td>\n",
       "      <td>0.491029</td>\n",
       "      <td>0.018970</td>\n",
       "      <td>0.451115</td>\n",
       "      <td>-8.797663</td>\n",
       "      <td>0.297498</td>\n",
       "      <td>0.018963</td>\n",
       "      <td>10.36</td>\n",
       "      <td>0.05</td>\n",
       "      <td>0.06</td>\n",
       "      <td>2.930000e+02</td>\n",
       "      <td>38</td>\n",
       "      <td>38</td>\n",
       "      <td>6.053387e+01</td>\n",
       "    </tr>\n",
       "    <tr>\n",
       "      <th>4</th>\n",
       "      <td>17600</td>\n",
       "      <td>11.250218</td>\n",
       "      <td>0.124236</td>\n",
       "      <td>0.074439</td>\n",
       "      <td>1.244810e+02</td>\n",
       "      <td>2.007912e+01</td>\n",
       "      <td>1.785070e+02</td>\n",
       "      <td>0.973505</td>\n",
       "      <td>0.535999</td>\n",
       "      <td>0.072820</td>\n",
       "      <td>-9.155115</td>\n",
       "      <td>0.098646</td>\n",
       "      <td>0.402474</td>\n",
       "      <td>10.90</td>\n",
       "      <td>0.10</td>\n",
       "      <td>0.09</td>\n",
       "      <td>1.500000e+01</td>\n",
       "      <td>1</td>\n",
       "      <td>4</td>\n",
       "      <td>7.298730e+02</td>\n",
       "    </tr>\n",
       "    <tr>\n",
       "      <th>5</th>\n",
       "      <td>19339</td>\n",
       "      <td>9.561577</td>\n",
       "      <td>0.044141</td>\n",
       "      <td>0.032824</td>\n",
       "      <td>2.326553e+01</td>\n",
       "      <td>7.372943e+00</td>\n",
       "      <td>1.829079e+00</td>\n",
       "      <td>0.111575</td>\n",
       "      <td>0.000640</td>\n",
       "      <td>0.066380</td>\n",
       "      <td>-8.194864</td>\n",
       "      <td>0.182071</td>\n",
       "      <td>0.001788</td>\n",
       "      <td>10.19</td>\n",
       "      <td>0.17</td>\n",
       "      <td>0.11</td>\n",
       "      <td>1.500000e+01</td>\n",
       "      <td>2</td>\n",
       "      <td>3</td>\n",
       "      <td>5.510357e+01</td>\n",
       "    </tr>\n",
       "    <tr>\n",
       "      <th>6</th>\n",
       "      <td>29557</td>\n",
       "      <td>9.568973</td>\n",
       "      <td>0.137614</td>\n",
       "      <td>0.123588</td>\n",
       "      <td>6.210317e+00</td>\n",
       "      <td>5.336662e-01</td>\n",
       "      <td>8.526750e-01</td>\n",
       "      <td>0.539649</td>\n",
       "      <td>0.211288</td>\n",
       "      <td>0.161567</td>\n",
       "      <td>-8.775859</td>\n",
       "      <td>0.138200</td>\n",
       "      <td>0.173698</td>\n",
       "      <td>9.59</td>\n",
       "      <td>0.21</td>\n",
       "      <td>0.17</td>\n",
       "      <td>6.000000e+00</td>\n",
       "      <td>1</td>\n",
       "      <td>1</td>\n",
       "      <td>3.505279e+00</td>\n",
       "    </tr>\n",
       "    <tr>\n",
       "      <th>7</th>\n",
       "      <td>30531</td>\n",
       "      <td>9.442050</td>\n",
       "      <td>0.006080</td>\n",
       "      <td>0.000671</td>\n",
       "      <td>1.439948e+01</td>\n",
       "      <td>3.138957e-01</td>\n",
       "      <td>8.353199e-02</td>\n",
       "      <td>0.132479</td>\n",
       "      <td>0.001962</td>\n",
       "      <td>0.002799</td>\n",
       "      <td>-8.283703</td>\n",
       "      <td>0.008055</td>\n",
       "      <td>0.006162</td>\n",
       "      <td>8.66</td>\n",
       "      <td>0.07</td>\n",
       "      <td>0.08</td>\n",
       "      <td>5.000000e+00</td>\n",
       "      <td>1</td>\n",
       "      <td>1</td>\n",
       "      <td>1.879895e+02</td>\n",
       "    </tr>\n",
       "    <tr>\n",
       "      <th>8</th>\n",
       "      <td>36814</td>\n",
       "      <td>9.778396</td>\n",
       "      <td>0.011769</td>\n",
       "      <td>0.004507</td>\n",
       "      <td>2.044117e+01</td>\n",
       "      <td>1.458493e-01</td>\n",
       "      <td>1.378921e+00</td>\n",
       "      <td>0.215632</td>\n",
       "      <td>0.025233</td>\n",
       "      <td>0.005318</td>\n",
       "      <td>-8.467891</td>\n",
       "      <td>0.000655</td>\n",
       "      <td>0.039422</td>\n",
       "      <td>9.66</td>\n",
       "      <td>0.10</td>\n",
       "      <td>0.10</td>\n",
       "      <td>2.800000e+01</td>\n",
       "      <td>5</td>\n",
       "      <td>5</td>\n",
       "      <td>2.699581e+01</td>\n",
       "    </tr>\n",
       "    <tr>\n",
       "      <th>9</th>\n",
       "      <td>42414</td>\n",
       "      <td>8.680401</td>\n",
       "      <td>0.003695</td>\n",
       "      <td>0.048948</td>\n",
       "      <td>3.110965e+00</td>\n",
       "      <td>5.065521e-01</td>\n",
       "      <td>7.712194e-02</td>\n",
       "      <td>0.102732</td>\n",
       "      <td>0.004595</td>\n",
       "      <td>0.047650</td>\n",
       "      <td>-8.187506</td>\n",
       "      <td>0.123761</td>\n",
       "      <td>0.011121</td>\n",
       "      <td>8.37</td>\n",
       "      <td>0.36</td>\n",
       "      <td>0.13</td>\n",
       "      <td>2.000000e+00</td>\n",
       "      <td>1</td>\n",
       "      <td>1</td>\n",
       "      <td>5.554824e+01</td>\n",
       "    </tr>\n",
       "    <tr>\n",
       "      <th>10</th>\n",
       "      <td>46256</td>\n",
       "      <td>10.625903</td>\n",
       "      <td>0.000176</td>\n",
       "      <td>0.000632</td>\n",
       "      <td>2.331358e+02</td>\n",
       "      <td>2.781354e-01</td>\n",
       "      <td>3.523379e-02</td>\n",
       "      <td>0.132723</td>\n",
       "      <td>0.000094</td>\n",
       "      <td>0.000965</td>\n",
       "      <td>-8.258294</td>\n",
       "      <td>0.000966</td>\n",
       "      <td>0.000087</td>\n",
       "      <td>10.41</td>\n",
       "      <td>0.06</td>\n",
       "      <td>0.05</td>\n",
       "      <td>2.130000e+02</td>\n",
       "      <td>15</td>\n",
       "      <td>26</td>\n",
       "      <td>9.453434e+00</td>\n",
       "    </tr>\n",
       "    <tr>\n",
       "      <th>11</th>\n",
       "      <td>48525</td>\n",
       "      <td>8.787501</td>\n",
       "      <td>0.022676</td>\n",
       "      <td>0.020466</td>\n",
       "      <td>2.374339e+00</td>\n",
       "      <td>4.240950e-01</td>\n",
       "      <td>1.191621e-01</td>\n",
       "      <td>0.173593</td>\n",
       "      <td>0.007540</td>\n",
       "      <td>0.050468</td>\n",
       "      <td>-8.411959</td>\n",
       "      <td>0.094261</td>\n",
       "      <td>0.030061</td>\n",
       "      <td>8.57</td>\n",
       "      <td>0.11</td>\n",
       "      <td>0.08</td>\n",
       "      <td>2.000000e+00</td>\n",
       "      <td>1</td>\n",
       "      <td>1</td>\n",
       "      <td>1.871696e+01</td>\n",
       "    </tr>\n",
       "    <tr>\n",
       "      <th>12</th>\n",
       "      <td>49364</td>\n",
       "      <td>9.680313</td>\n",
       "      <td>0.004566</td>\n",
       "      <td>0.006815</td>\n",
       "      <td>1.469239e+01</td>\n",
       "      <td>3.137155e-03</td>\n",
       "      <td>3.591330e-01</td>\n",
       "      <td>0.235405</td>\n",
       "      <td>0.007343</td>\n",
       "      <td>0.005512</td>\n",
       "      <td>-8.513221</td>\n",
       "      <td>0.005739</td>\n",
       "      <td>0.014996</td>\n",
       "      <td>9.57</td>\n",
       "      <td>0.13</td>\n",
       "      <td>0.07</td>\n",
       "      <td>2.500000e+01</td>\n",
       "      <td>2</td>\n",
       "      <td>3</td>\n",
       "      <td>4.123045e+01</td>\n",
       "    </tr>\n",
       "    <tr>\n",
       "      <th>13</th>\n",
       "      <td>54034</td>\n",
       "      <td>9.268028</td>\n",
       "      <td>0.001422</td>\n",
       "      <td>0.024251</td>\n",
       "      <td>9.713995e+00</td>\n",
       "      <td>4.450412e-01</td>\n",
       "      <td>1.913321e-01</td>\n",
       "      <td>0.130723</td>\n",
       "      <td>0.003392</td>\n",
       "      <td>0.014756</td>\n",
       "      <td>-8.280630</td>\n",
       "      <td>0.043214</td>\n",
       "      <td>0.008730</td>\n",
       "      <td>9.18</td>\n",
       "      <td>0.07</td>\n",
       "      <td>0.07</td>\n",
       "      <td>1.100000e+01</td>\n",
       "      <td>1</td>\n",
       "      <td>1</td>\n",
       "      <td>1.169096e+01</td>\n",
       "    </tr>\n",
       "    <tr>\n",
       "      <th>14</th>\n",
       "      <td>55035</td>\n",
       "      <td>9.436807</td>\n",
       "      <td>0.003573</td>\n",
       "      <td>0.017357</td>\n",
       "      <td>6.439632e+00</td>\n",
       "      <td>2.373673e-01</td>\n",
       "      <td>1.760809e-02</td>\n",
       "      <td>0.395127</td>\n",
       "      <td>0.004327</td>\n",
       "      <td>0.016949</td>\n",
       "      <td>-8.627946</td>\n",
       "      <td>0.033052</td>\n",
       "      <td>0.004194</td>\n",
       "      <td>8.62</td>\n",
       "      <td>0.08</td>\n",
       "      <td>0.09</td>\n",
       "      <td>4.000000e+00</td>\n",
       "      <td>1</td>\n",
       "      <td>1</td>\n",
       "      <td>6.099080e+01</td>\n",
       "    </tr>\n",
       "    <tr>\n",
       "      <th>15</th>\n",
       "      <td>55136</td>\n",
       "      <td>9.775550</td>\n",
       "      <td>0.002520</td>\n",
       "      <td>0.000638</td>\n",
       "      <td>2.910277e+01</td>\n",
       "      <td>1.862088e-01</td>\n",
       "      <td>3.191762e-02</td>\n",
       "      <td>0.173007</td>\n",
       "      <td>0.000096</td>\n",
       "      <td>0.001578</td>\n",
       "      <td>-8.311615</td>\n",
       "      <td>0.000953</td>\n",
       "      <td>0.000845</td>\n",
       "      <td>8.97</td>\n",
       "      <td>0.06</td>\n",
       "      <td>0.07</td>\n",
       "      <td>1.000000e+01</td>\n",
       "      <td>1</td>\n",
       "      <td>1</td>\n",
       "      <td>1.910277e+02</td>\n",
       "    </tr>\n",
       "    <tr>\n",
       "      <th>16</th>\n",
       "      <td>55785</td>\n",
       "      <td>10.221562</td>\n",
       "      <td>0.031955</td>\n",
       "      <td>0.005554</td>\n",
       "      <td>1.470277e+01</td>\n",
       "      <td>7.708193e-01</td>\n",
       "      <td>3.953543e-01</td>\n",
       "      <td>0.908396</td>\n",
       "      <td>0.038785</td>\n",
       "      <td>0.004019</td>\n",
       "      <td>-9.054163</td>\n",
       "      <td>0.005930</td>\n",
       "      <td>0.031632</td>\n",
       "      <td>10.07</td>\n",
       "      <td>0.13</td>\n",
       "      <td>0.09</td>\n",
       "      <td>1.900000e+01</td>\n",
       "      <td>5</td>\n",
       "      <td>16</td>\n",
       "      <td>2.261699e+01</td>\n",
       "    </tr>\n",
       "    <tr>\n",
       "      <th>17</th>\n",
       "      <td>56241</td>\n",
       "      <td>10.373015</td>\n",
       "      <td>0.019183</td>\n",
       "      <td>0.001835</td>\n",
       "      <td>1.369360e+02</td>\n",
       "      <td>3.329652e-01</td>\n",
       "      <td>2.543233e+00</td>\n",
       "      <td>0.116823</td>\n",
       "      <td>0.007565</td>\n",
       "      <td>0.000837</td>\n",
       "      <td>-8.236497</td>\n",
       "      <td>0.002829</td>\n",
       "      <td>0.027119</td>\n",
       "      <td>9.80</td>\n",
       "      <td>0.09</td>\n",
       "      <td>0.13</td>\n",
       "      <td>7.200000e+01</td>\n",
       "      <td>14</td>\n",
       "      <td>25</td>\n",
       "      <td>9.018883e+01</td>\n",
       "    </tr>\n",
       "  </tbody>\n",
       "</table>\n",
       "</div>"
      ],
      "text/plain": [
       "      ids     mass_2  mass_error_lower  mass_error_upper         sfr_2  \\\n",
       "0   56033  10.819114          0.000194          0.000963  1.235555e-40   \n",
       "1   39138  10.805803          0.010315          0.004084  1.210240e+02   \n",
       "2    2342  10.355000          0.024616          0.027317  8.032374e+01   \n",
       "3   12903  10.860755          0.073071          0.055816  1.156358e+02   \n",
       "4   17600  11.250218          0.124236          0.074439  1.244810e+02   \n",
       "5   19339   9.561577          0.044141          0.032824  2.326553e+01   \n",
       "6   29557   9.568973          0.137614          0.123588  6.210317e+00   \n",
       "7   30531   9.442050          0.006080          0.000671  1.439948e+01   \n",
       "8   36814   9.778396          0.011769          0.004507  2.044117e+01   \n",
       "9   42414   8.680401          0.003695          0.048948  3.110965e+00   \n",
       "10  46256  10.625903          0.000176          0.000632  2.331358e+02   \n",
       "11  48525   8.787501          0.022676          0.020466  2.374339e+00   \n",
       "12  49364   9.680313          0.004566          0.006815  1.469239e+01   \n",
       "13  54034   9.268028          0.001422          0.024251  9.713995e+00   \n",
       "14  55035   9.436807          0.003573          0.017357  6.439632e+00   \n",
       "15  55136   9.775550          0.002520          0.000638  2.910277e+01   \n",
       "16  55785  10.221562          0.031955          0.005554  1.470277e+01   \n",
       "17  56241  10.373015          0.019183          0.001835  1.369360e+02   \n",
       "\n",
       "    sfr_error_lower  sfr_error_upper       age  age_error_lower  \\\n",
       "0      1.235555e-40     3.704047e-22  0.586500         0.000693   \n",
       "1      4.618144e+00     3.847452e-01  0.380252         0.006445   \n",
       "2      7.264551e+00     8.349357e+00  0.237011         0.040330   \n",
       "3      5.978722e+01     4.997491e+00  0.491029         0.018970   \n",
       "4      2.007912e+01     1.785070e+02  0.973505         0.535999   \n",
       "5      7.372943e+00     1.829079e+00  0.111575         0.000640   \n",
       "6      5.336662e-01     8.526750e-01  0.539649         0.211288   \n",
       "7      3.138957e-01     8.353199e-02  0.132479         0.001962   \n",
       "8      1.458493e-01     1.378921e+00  0.215632         0.025233   \n",
       "9      5.065521e-01     7.712194e-02  0.102732         0.004595   \n",
       "10     2.781354e-01     3.523379e-02  0.132723         0.000094   \n",
       "11     4.240950e-01     1.191621e-01  0.173593         0.007540   \n",
       "12     3.137155e-03     3.591330e-01  0.235405         0.007343   \n",
       "13     4.450412e-01     1.913321e-01  0.130723         0.003392   \n",
       "14     2.373673e-01     1.760809e-02  0.395127         0.004327   \n",
       "15     1.862088e-01     3.191762e-02  0.173007         0.000096   \n",
       "16     7.708193e-01     3.953543e-01  0.908396         0.038785   \n",
       "17     3.329652e-01     2.543233e+00  0.116823         0.007565   \n",
       "\n",
       "    age_error_upper       ssfr  ssfr_error_lower  ssfr_error_upper  \\\n",
       "0          0.010893 -50.727252         11.628649         18.475784   \n",
       "1          0.007503  -8.722932          0.012715          0.001125   \n",
       "2          0.037653  -8.450156          0.063717          0.059010   \n",
       "3          0.451115  -8.797663          0.297498          0.018963   \n",
       "4          0.072820  -9.155115          0.098646          0.402474   \n",
       "5          0.066380  -8.194864          0.182071          0.001788   \n",
       "6          0.161567  -8.775859          0.138200          0.173698   \n",
       "7          0.002799  -8.283703          0.008055          0.006162   \n",
       "8          0.005318  -8.467891          0.000655          0.039422   \n",
       "9          0.047650  -8.187506          0.123761          0.011121   \n",
       "10         0.000965  -8.258294          0.000966          0.000087   \n",
       "11         0.050468  -8.411959          0.094261          0.030061   \n",
       "12         0.005512  -8.513221          0.005739          0.014996   \n",
       "13         0.014756  -8.280630          0.043214          0.008730   \n",
       "14         0.016949  -8.627946          0.033052          0.004194   \n",
       "15         0.001578  -8.311615          0.000953          0.000845   \n",
       "16         0.004019  -9.054163          0.005930          0.031632   \n",
       "17         0.000837  -8.236497          0.002829          0.027119   \n",
       "\n",
       "    literature_masses  lit_mass_error_lower  lit_mass_error_upper  \\\n",
       "0               10.82                  0.02                  0.02   \n",
       "1               10.95                  0.03                  0.03   \n",
       "2               10.55                  0.15                  0.16   \n",
       "3               10.36                  0.05                  0.06   \n",
       "4               10.90                  0.10                  0.09   \n",
       "5               10.19                  0.17                  0.11   \n",
       "6                9.59                  0.21                  0.17   \n",
       "7                8.66                  0.07                  0.08   \n",
       "8                9.66                  0.10                  0.10   \n",
       "9                8.37                  0.36                  0.13   \n",
       "10              10.41                  0.06                  0.05   \n",
       "11               8.57                  0.11                  0.08   \n",
       "12               9.57                  0.13                  0.07   \n",
       "13               9.18                  0.07                  0.07   \n",
       "14               8.62                  0.08                  0.09   \n",
       "15               8.97                  0.06                  0.07   \n",
       "16              10.07                  0.13                  0.09   \n",
       "17               9.80                  0.09                  0.13   \n",
       "\n",
       "    literature_sfr  lit_sfr_error_lower  lit_sfr_error_upper  \\\n",
       "0     1.000000e-99                    0                    0   \n",
       "1     1.000000e-99                    0                    0   \n",
       "2     1.310000e+02                   40                   84   \n",
       "3     2.930000e+02                   38                   38   \n",
       "4     1.500000e+01                    1                    4   \n",
       "5     1.500000e+01                    2                    3   \n",
       "6     6.000000e+00                    1                    1   \n",
       "7     5.000000e+00                    1                    1   \n",
       "8     2.800000e+01                    5                    5   \n",
       "9     2.000000e+00                    1                    1   \n",
       "10    2.130000e+02                   15                   26   \n",
       "11    2.000000e+00                    1                    1   \n",
       "12    2.500000e+01                    2                    3   \n",
       "13    1.100000e+01                    1                    1   \n",
       "14    4.000000e+00                    1                    1   \n",
       "15    1.000000e+01                    1                    1   \n",
       "16    1.900000e+01                    5                   16   \n",
       "17    7.200000e+01                   14                   25   \n",
       "\n",
       "    sfr_percent_error  \n",
       "0        1.235555e+61  \n",
       "1       1.210240e+103  \n",
       "2        3.868417e+01  \n",
       "3        6.053387e+01  \n",
       "4        7.298730e+02  \n",
       "5        5.510357e+01  \n",
       "6        3.505279e+00  \n",
       "7        1.879895e+02  \n",
       "8        2.699581e+01  \n",
       "9        5.554824e+01  \n",
       "10       9.453434e+00  \n",
       "11       1.871696e+01  \n",
       "12       4.123045e+01  \n",
       "13       1.169096e+01  \n",
       "14       6.099080e+01  \n",
       "15       1.910277e+02  \n",
       "16       2.261699e+01  \n",
       "17       9.018883e+01  "
      ]
     },
     "execution_count": 1191,
     "metadata": {},
     "output_type": "execute_result"
    }
   ],
   "source": [
    "df"
   ]
  },
  {
   "cell_type": "markdown",
   "id": "3cdbd524",
   "metadata": {},
   "source": [
    "# Plot!"
   ]
  },
  {
   "cell_type": "code",
   "execution_count": 825,
   "id": "5cc50ad3",
   "metadata": {},
   "outputs": [
    {
     "data": {
      "image/png": "[encoded data removed]",
      "text/plain": [
       "<Figure size 864x432 with 2 Axes>"
      ]
     },
     "metadata": {
      "needs_background": "light"
     },
     "output_type": "display_data"
    }
   ],
   "source": [
    "fig, (ax1, ax2) = plt.subplots(1, 2, figsize=(12, 6))\n",
    "\n",
    "bins=np.linspace(8.2, 11, 20)\n",
    "bins1=np.linspace(0, 300, 20)\n",
    "\n",
    "ax1.hist(df['literature_masses'], bins=bins, label='Jin+24')\n",
    "ax1.hist(df['mass_2'], bins=bins, label='Experimental', alpha=0.7)\n",
    "ax1.set_title('Comparison of Stellar Mass Values')\n",
    "ax1.set_xlabel('Stellar Mass [$M_\\odot$]')\n",
    "ax1.legend()\n",
    "\n",
    "ax2.hist(df['literature_sfr'], bins=bins1, label='Jin+24')\n",
    "ax2.hist(df['sfr_2'], bins=bins1, label='Experimental', alpha=0.7)\n",
    "ax2.set_title('Comparison of SFR Values')\n",
    "ax2.set_xlabel('SFR [$M_\\odot yr^{-1}$]')\n",
    "ax2.legend()\n",
    "\n",
    "plt.tight_layout()\n",
    "plt.show()"
   ]
  },
  {
   "cell_type": "code",
   "execution_count": 951,
   "id": "032ecb6e",
   "metadata": {
    "scrolled": false
   },
   "outputs": [
    {
     "data": {
      "text/plain": [
       "Text(0.5, 1.0, 'Comparison of Stellar Mass')"
      ]
     },
     "execution_count": 951,
     "metadata": {},
     "output_type": "execute_result"
    },
    {
     "data": {
      "image/png": "[encoded data removed]",
      "text/plain": [
       "<Figure size 864x504 with 1 Axes>"
      ]
     },
     "metadata": {
      "needs_background": "light"
     },
     "output_type": "display_data"
    }
   ],
   "source": [
    "fig = plt.figure(figsize=(12, 7))\n",
    "plt.errorbar(df['mass_2'], df['literature_masses'], xerr=[df['mass_error_lower'], df['mass_error_upper']], yerr=[df['lit_mass_error_lower'], df['lit_mass_error_upper']], fmt='o', capsize=5)\n",
    "plt.plot(np.linspace(8, 12), np.linspace(8, 12))\n",
    "plt.xlabel('log Stellar Mass (Experimental) [$M_\\odot$]'); plt.ylabel('log Stellar Mass (Literature) [$M_\\odot$]')\n",
    "plt.title('Comparison of Stellar Mass', font='Computer Modern', fontsize=18)"
   ]
  },
  {
   "cell_type": "code",
   "execution_count": 949,
   "id": "d8705ffe",
   "metadata": {},
   "outputs": [
    {
     "data": {
      "text/plain": [
       "Text(0.5, 1.0, 'Comparison of Star Formation Rates')"
      ]
     },
     "execution_count": 949,
     "metadata": {},
     "output_type": "execute_result"
    },
    {
     "data": {
      "image/png": "[encoded data removed]",
      "text/plain": [
       "<Figure size 864x504 with 1 Axes>"
      ]
     },
     "metadata": {
      "needs_background": "light"
     },
     "output_type": "display_data"
    }
   ],
   "source": [
    "fig = plt.figure(figsize=(12, 7))\n",
    "plt.errorbar(df['sfr_2'], df['literature_sfr'], xerr=[df['sfr_error_lower'], df['sfr_error_upper']], yerr=[df['lit_sfr_error_lower'], df['lit_sfr_error_upper']],fmt='o', capsize=5)\n",
    "plt.plot(np.linspace(1, 1000), np.linspace(1, 1000))\n",
    "plt.xscale('log'); plt.yscale('log')\n",
    "plt.ylim(0.8, 1.4e3)\n",
    "plt.xlim(0.8, 1.4e3)\n",
    "plt.xlabel('Experimental SFR [$M_\\odot yr^{-1}$]'); plt.ylabel('Literature SFR [$M_\\odot yr^{-1}$]')\n",
    "plt.title('Comparison of Star Formation Rates', font='Computer Modern', fontsize=18)"
   ]
  },
  {
   "cell_type": "markdown",
   "id": "0c2cbe22",
   "metadata": {},
   "source": [
    "## SFMS (Schreiber+15)"
   ]
  },
  {
   "cell_type": "code",
   "execution_count": 1184,
   "id": "968ae65a",
   "metadata": {},
   "outputs": [],
   "source": [
    "def get_SFR_line(mass):\n",
    "    \"\"\" Mass in log scale\n",
    "    \"\"\"\n",
    "    z=[]; SFR_line = []\n",
    "\n",
    "    for fit in fits:\n",
    "        red = fit.fit_instructions['redshift']\n",
    "        z.append(red)\n",
    "\n",
    "    m0 = 0.5; a0 = 1.5; a1 = 0.3; m1 = 0.36; a2 = 2.5 \n",
    "\n",
    "    r = np.log10(1 + np.array(z))\n",
    "    m = np.log10(np.array(10**mass/1e9))\n",
    "\n",
    "    for i in range(len(r)):\n",
    "        log10SFR = m[i] - m0 + (a0 * r[i]) - (a1*(max(0, m[i]-m1-a2*r[i])**2))*2\n",
    "        SFR_line.append(log10SFR)\n",
    "        \n",
    "    mass_2 = np.array(mass)\n",
    "    SFR_line = np.array(SFR_line)\n",
    "    \n",
    "    sorted_indices = np.argsort(mass_2)\n",
    "    mass_2_sorted = mass_2[sorted_indices]\n",
    "    SFR_line_sorted = SFR_line[sorted_indices]\n",
    "    \n",
    "    plt.scatter(mass_2, SFR_line)\n",
    "    plt.plot(mass_2_sorted, SFR_line_sorted, 'r')\n",
    "\n",
    "    return mass_2_sorted, SFR_line_sorted "
   ]
  },
  {
   "cell_type": "code",
   "execution_count": 898,
   "id": "f342e039",
   "metadata": {},
   "outputs": [],
   "source": [
    "# getting the relative errors in log scale\n",
    "\n",
    "log_sfr_2 = np.log10(df['sfr_2'])\n",
    "log_sfr_2_lower = df['sfr_error_lower'] / df['sfr_2'] / np.log(10) \n",
    "log_sfr_2_upper = df['sfr_error_upper'] / df['sfr_2'] / np.log(10)\n",
    "\n",
    "log_literature_sfr = np.log10(df['literature_sfr'])\n",
    "log_lit_sfr_lower = df['lit_sfr_error_lower'] / df['literature_sfr'] / np.log(10)\n",
    "log_lit_sfr_upper = df['lit_sfr_error_upper'] / df['literature_sfr'] / np.log(10)"
   ]
  },
  {
   "cell_type": "code",
   "execution_count": 927,
   "id": "6c283ba6",
   "metadata": {
    "scrolled": false
   },
   "outputs": [
    {
     "data": {
      "text/plain": [
       "<matplotlib.legend.Legend at 0x7fedee86caf0>"
      ]
     },
     "execution_count": 927,
     "metadata": {},
     "output_type": "execute_result"
    },
    {
     "data": {
      "image/png": "[encoded data removed]",
      "text/plain": [
       "<Figure size 864x504 with 1 Axes>"
      ]
     },
     "metadata": {
      "needs_background": "light"
     },
     "output_type": "display_data"
    }
   ],
   "source": [
    "fig = plt.figure(figsize=(12, 7))\n",
    "\n",
    "plt.errorbar(df['mass_2'][1:], np.log10(df['sfr_2'][1:]), xerr=[df['mass_error_lower'][1:], df['mass_error_upper'][1:]], yerr=[log_sfr_2_lower[1:], log_sfr_2_upper[1:]], fmt='o', capsize=5, label='Experimental')\n",
    "plt.errorbar(df['literature_masses'], np.log10(df['literature_sfr']), xerr=[df['lit_mass_error_lower'], df['lit_mass_error_upper']], yerr=[log_lit_sfr_lower, log_lit_sfr_upper], fmt='o', capsize=5, label='Jin+24')\n",
    "\n",
    "plt.ylim(0, 3)\n",
    "plt.xlabel('log Stellar Mass [$M_\\odot$]'); plt.ylabel('log SFR [$M_\\odot yr^{-1}$]')\n",
    "\n",
    "plt.plot(c, m, 'purple', label='Schreiber+15')\n",
    "plt.title('log SFR vs. log Stellar Mass', font='Computer Modern', fontsize=18)\n",
    "\n",
    "plt.legend(loc='upper left', fontsize=13.5)"
   ]
  },
  {
   "cell_type": "markdown",
   "id": "b0cda27b",
   "metadata": {},
   "source": [
    "# UVJ Diagram"
   ]
  },
  {
   "cell_type": "code",
   "execution_count": 831,
   "id": "8b48f211",
   "metadata": {},
   "outputs": [],
   "source": [
    "def line(x):\n",
    "    y = 0.88*x + 0.49\n",
    "    return y"
   ]
  },
  {
   "cell_type": "code",
   "execution_count": 832,
   "id": "a90e6710",
   "metadata": {},
   "outputs": [],
   "source": [
    "def uvj(fits):\n",
    "    \"\"\" List of fits\n",
    "    \"\"\"\n",
    "    UVs = []\n",
    "    VJs = []\n",
    "    \n",
    "    for fit in fits:\n",
    "        samples = list(fit.posterior.samples['chisq_phot'])\n",
    "        best_value_index = samples.index(min(fit.posterior.samples['chisq_phot']))\n",
    "        z = fit.fit_instructions['redshift']\n",
    "        \n",
    "        best_u, best_v, best_j = fit.posterior.samples['uvj'][best_value_index]\n",
    "        UV = (best_u - best_v) #-2.5*np.log10(best_u/best_v)\n",
    "        VJ = (best_v - best_j) \n",
    "        \n",
    "        UVs.append(UV)\n",
    "        VJs.append(VJ)\n",
    "        \n",
    "    return UVs, VJs"
   ]
  },
  {
   "cell_type": "code",
   "execution_count": 836,
   "id": "4e0ee877",
   "metadata": {},
   "outputs": [],
   "source": [
    "UV1, VJ1 = uvj(fits_final)"
   ]
  },
  {
   "cell_type": "code",
   "execution_count": 859,
   "id": "160cfd8c",
   "metadata": {},
   "outputs": [
    {
     "data": {
      "image/png": "[encoded data removed]",
      "text/plain": [
       "<Figure size 432x432 with 1 Axes>"
      ]
     },
     "metadata": {
      "needs_background": "light"
     },
     "output_type": "display_data"
    }
   ],
   "source": [
    "fig, ax = plt.subplots(figsize=(6, 6)) \n",
    "\n",
    "x1, x2 = -1, 2.5\n",
    "y1, y2 = -0.5, 3\n",
    "plt.xlim(x1, x2); plt.ylim(y1, y2)\n",
    "\n",
    "ax.plot([x1,0.92],[1.3,1.3],'r',lw=2) # left\n",
    "x = np.linspace(0.92, 1.6, 100)\n",
    "ax.plot(x, line(x), 'r')\n",
    "ax.plot([1.6,1.6],[1.9,y2],'r',lw=2) # top\n",
    "\n",
    "plt.xlabel('V-J'); plt.ylabel('U-V')\n",
    "plt.title('UVJ Diagram', font='Computer Modern', fontsize=18)\n",
    "\n",
    "plt.scatter(VJ1, UV1)\n",
    "\n",
    "for i in range(len(df['ids'])):\n",
    "    if df['ids'][i] == '56033':\n",
    "        plt.text(VJ1[i], UV1[i], str(int(df['ids'][i]))+\" (A)\", fontsize=12, ha='left')\n",
    "    if df['ids'][i] == '39138':\n",
    "        plt.text(VJ1[i], UV1[i], str(int(df['ids'][i]))+\" (E)\", fontsize=12, ha='left')\n",
    "    if df['ids'][i] == '55785':\n",
    "        plt.text(VJ1[i], UV1[i], str(int(df['ids'][i]))+\" (C)\", fontsize=12, ha='left')"
   ]
  }
 ],
 "metadata": {
  "kernelspec": {
   "display_name": "Python 3",
   "language": "python",
   "name": "python3"
  },
  "language_info": {
   "codemirror_mode": {
    "name": "ipython",
    "version": 3
   },
   "file_extension": ".py",
   "mimetype": "text/x-python",
   "name": "python",
   "nbconvert_exporter": "python",
   "pygments_lexer": "ipython3",
   "version": "3.8.0"
  }
 },
 "nbformat": 4,
 "nbformat_minor": 5
}
